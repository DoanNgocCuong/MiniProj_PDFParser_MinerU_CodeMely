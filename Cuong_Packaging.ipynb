{
 "cells": [
  {
   "cell_type": "markdown",
   "metadata": {},
   "source": []
  },
  {
   "cell_type": "markdown",
   "metadata": {},
   "source": [
    "1. \n",
    "```bash\n",
    "pip install magic-pdf[full] --extra-index-url https://myhloli.github.io/wheels/\n",
    "```\n",
    "(có detectron2 luôn)\n",
    ">- Với version `tsutomu-n` (tầm tháng 9/2024), mình cần set up xuống python 3.10 để dễ dàng cài được `detectron2` - 1 phần của `magic-pdf full`. Còn version này thì cũng cần -)) 3.10.11\n",
    "\n",
    "2. Download Model:(New Method) (Python script will automatically download the model files and configure `magic-pdf.json`)\n",
    "```bash\n",
    "pip install huggingface_hub\n",
    "wget https://github.com/opendatalab/MinerU/raw/master/docs/download_models_hf.py -O download_models_hf.py\n",
    "python download_models_hf.py\n",
    "```\n",
    "\n",
    "> The user directory for Windows is \"C:\\Users\\username\", for Linux it is \"/home/username\", and for macOS it is \"/Users/username\".\n",
    "> You can modify certain configurations in this file to enable or disable features (read README.md)\n",
    "\n",
    "3. Run: \n",
    "```bash\n",
    "magic-pdf -p \"PDFTesting/testpdf2.pdf\"  -o \"some_output_dir\" -m auto\n",
    "```\n",
    "\n",
    "3. Before running this Docker, you can use the following command to check if your device supports CUDA acceleration on Docker.\n",
    "```bash\n",
    "docker run --rm --gpus=all nvidia/cuda:12.1.0-base-ubuntu22.04 nvidia-smi\n",
    "```\n",
    "\n",
    "This command runs a Docker container with CUDA support and shows information about the GPU.\n",
    "The output shows:\n",
    "- The Docker image was downloaded.\n",
    "- Details about the NVIDIA GPU (Quadro T2000 with Max-Q).\n",
    "- The GPU has 4096 MB of memory.\n",
    "- No processes are using the GPU right now.\n",
    "- At the end, there's a note about using Docker. It says:\n",
    "- You need a GPU with at least 16GB of VRAM for Docker.\n",
    "- The command shown can check if your device supports CUDA in Docker.\n"
   ]
  },
  {
   "cell_type": "code",
   "execution_count": 3,
   "metadata": {},
   "outputs": [
    {
     "name": "stdout",
     "output_type": "stream",
     "text": [
      "Found folders:\n",
      "D:\\OneDrive - Hanoi University of Science and Technology\\ITE10-DS&AI-HUST\\Learn&Task\\MiniProj_PDFParser_MinerU_CodeMely\\MiniProj_PDFParser_MinerU_CodeMely\\.venv\\Lib\\site-packages\\paddle\n",
      "D:\\OneDrive - Hanoi University of Science and Technology\\ITE10-DS&AI-HUST\\Learn&Task\\MiniProj_PDFParser_MinerU_CodeMely\\MiniProj_PDFParser_MinerU_CodeMely\\.venv\\Lib\\site-packages\\paddleocr\n",
      "D:\\OneDrive - Hanoi University of Science and Technology\\ITE10-DS&AI-HUST\\Learn&Task\\MiniProj_PDFParser_MinerU_CodeMely\\MiniProj_PDFParser_MinerU_CodeMely\\.venv\\Lib\\site-packages\\paddleocr-2.7.3.dist-info\n",
      "D:\\OneDrive - Hanoi University of Science and Technology\\ITE10-DS&AI-HUST\\Learn&Task\\MiniProj_PDFParser_MinerU_CodeMely\\MiniProj_PDFParser_MinerU_CodeMely\\.venv\\Lib\\site-packages\\paddlepaddle-2.6.1.dist-info\n",
      "D:\\OneDrive - Hanoi University of Science and Technology\\ITE10-DS&AI-HUST\\Learn&Task\\MiniProj_PDFParser_MinerU_CodeMely\\MiniProj_PDFParser_MinerU_CodeMely\\.venv\\Lib\\site-packages\\paddle\\include\\paddle\n",
      "D:\\OneDrive - Hanoi University of Science and Technology\\ITE10-DS&AI-HUST\\Learn&Task\\MiniProj_PDFParser_MinerU_CodeMely\\MiniProj_PDFParser_MinerU_CodeMely\\.venv\\Lib\\site-packages\\paddleocr\\paddleocr.egg-info\n"
     ]
    }
   ],
   "source": [
    "import os\n",
    "\n",
    "def find_folders_with_word(folder_path, word):\n",
    "    found_folders = []  # Danh sách để lưu các thư mục tìm thấy\n",
    "    for root, dirs, files in os.walk(folder_path):\n",
    "        for dir_name in dirs:\n",
    "            if word in dir_name:\n",
    "                found_folders.append(os.path.join(root, dir_name))\n",
    "    \n",
    "    if found_folders:\n",
    "        print(\"Found folders:\")\n",
    "        for folder in found_folders:\n",
    "            print(folder)\n",
    "    else:\n",
    "        print(f'No folders containing \"{word}\" found in the directory.')\n",
    "\n",
    "# Sử dụng hàm\n",
    "folder_path = r'D:\\OneDrive - Hanoi University of Science and Technology\\ITE10-DS&AI-HUST\\Learn&Task\\MiniProj_PDFParser_MinerU_CodeMely\\MiniProj_PDFParser_MinerU_CodeMely'  # Thay đổi đường dẫn đến thư mục của bạn\n",
    "find_folders_with_word(folder_path, 'paddle')"
   ]
  }
 ],
 "metadata": {
  "kernelspec": {
   "display_name": "new_env_py310",
   "language": "python",
   "name": "python3"
  },
  "language_info": {
   "codemirror_mode": {
    "name": "ipython",
    "version": 3
   },
   "file_extension": ".py",
   "mimetype": "text/x-python",
   "name": "python",
   "nbconvert_exporter": "python",
   "pygments_lexer": "ipython3",
   "version": "3.12.7"
  }
 },
 "nbformat": 4,
 "nbformat_minor": 2
}
