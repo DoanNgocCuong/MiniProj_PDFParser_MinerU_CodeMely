{
  "cells": [
    {
      "cell_type": "markdown",
      "metadata": {
        "id": "QNl2x7hV2sGO"
      },
      "source": [
        "# Marker PDF - Markdown\n"
      ]
    },
    {
      "cell_type": "code",
      "execution_count": null,
      "metadata": {
        "colab": {
          "base_uri": "https://localhost:8080/",
          "height": 1000
        },
        "id": "N6YOdQxJKfFe",
        "outputId": "16191353-4c9c-4165-dcca-d325ea83a7b8"
      },
      "outputs": [
        {
          "name": "stdout",
          "output_type": "stream",
          "text": [
            "Collecting marker-pdf\n",
            "  Downloading marker_pdf-0.2.16-py3-none-any.whl (63 kB)\n",
            "\u001b[2K     \u001b[90m━━━━━━━━━━━━━━━━━━━━━━━━━━━━━━━━━━━━━━━━\u001b[0m \u001b[32m63.3/63.3 kB\u001b[0m \u001b[31m2.1 MB/s\u001b[0m eta \u001b[36m0:00:00\u001b[0m\n",
            "\u001b[?25hCollecting Pillow<11.0.0,>=10.1.0 (from marker-pdf)\n",
            "  Downloading pillow-10.4.0-cp310-cp310-manylinux_2_28_x86_64.whl (4.5 MB)\n",
            "\u001b[2K     \u001b[90m━━━━━━━━━━━━━━━━━━━━━━━━━━━━━━━━━━━━━━━━\u001b[0m \u001b[32m4.5/4.5 MB\u001b[0m \u001b[31m18.1 MB/s\u001b[0m eta \u001b[36m0:00:00\u001b[0m\n",
            "\u001b[?25hCollecting filetype<2.0.0,>=1.2.0 (from marker-pdf)\n",
            "  Downloading filetype-1.2.0-py2.py3-none-any.whl (19 kB)\n",
            "Collecting ftfy<7.0.0,>=6.1.1 (from marker-pdf)\n",
            "  Downloading ftfy-6.2.0-py3-none-any.whl (54 kB)\n",
            "\u001b[2K     \u001b[90m━━━━━━━━━━━━━━━━━━━━━━━━━━━━━━━━━━━━━━━━\u001b[0m \u001b[32m54.4/54.4 kB\u001b[0m \u001b[31m7.1 MB/s\u001b[0m eta \u001b[36m0:00:00\u001b[0m\n",
            "\u001b[?25hRequirement already satisfied: grpcio<2.0.0,>=1.63.0 in /usr/local/lib/python3.10/dist-packages (from marker-pdf) (1.64.1)\n",
            "Collecting numpy<2.0.0,>=1.26.1 (from marker-pdf)\n",
            "  Downloading numpy-1.26.4-cp310-cp310-manylinux_2_17_x86_64.manylinux2014_x86_64.whl (18.2 MB)\n",
            "\u001b[2K     \u001b[90m━━━━━━━━━━━━━━━━━━━━━━━━━━━━━━━━━━━━━━━━\u001b[0m \u001b[32m18.2/18.2 MB\u001b[0m \u001b[31m36.2 MB/s\u001b[0m eta \u001b[36m0:00:00\u001b[0m\n",
            "\u001b[?25hCollecting pdftext<0.4.0,>=0.3.10 (from marker-pdf)\n",
            "  Downloading pdftext-0.3.10-py3-none-any.whl (25 kB)\n",
            "Requirement already satisfied: pydantic<3.0.0,>=2.4.2 in /usr/local/lib/python3.10/dist-packages (from marker-pdf) (2.8.2)\n",
            "Collecting pydantic-settings<3.0.0,>=2.0.3 (from marker-pdf)\n",
            "  Downloading pydantic_settings-2.3.4-py3-none-any.whl (22 kB)\n",
            "Collecting python-dotenv<2.0.0,>=1.0.0 (from marker-pdf)\n",
            "  Downloading python_dotenv-1.0.1-py3-none-any.whl (19 kB)\n",
            "Collecting rapidfuzz<4.0.0,>=3.8.1 (from marker-pdf)\n",
            "  Downloading rapidfuzz-3.9.4-cp310-cp310-manylinux_2_17_x86_64.manylinux2014_x86_64.whl (3.4 MB)\n",
            "\u001b[2K     \u001b[90m━━━━━━━━━━━━━━━━━━━━━━━━━━━━━━━━━━━━━━━━\u001b[0m \u001b[32m3.4/3.4 MB\u001b[0m \u001b[31m50.6 MB/s\u001b[0m eta \u001b[36m0:00:00\u001b[0m\n",
            "\u001b[?25hRequirement already satisfied: regex<2025.0.0,>=2024.4.28 in /usr/local/lib/python3.10/dist-packages (from marker-pdf) (2024.5.15)\n",
            "Collecting scikit-learn<=1.4.2,>=1.3.2 (from marker-pdf)\n",
            "  Downloading scikit_learn-1.4.2-cp310-cp310-manylinux_2_17_x86_64.manylinux2014_x86_64.whl (12.1 MB)\n",
            "\u001b[2K     \u001b[90m━━━━━━━━━━━━━━━━━━━━━━━━━━━━━━━━━━━━━━━━\u001b[0m \u001b[32m12.1/12.1 MB\u001b[0m \u001b[31m23.2 MB/s\u001b[0m eta \u001b[36m0:00:00\u001b[0m\n",
            "\u001b[?25hCollecting surya-ocr<0.5.0,>=0.4.15 (from marker-pdf)\n",
            "  Downloading surya_ocr-0.4.15-py3-none-any.whl (95 kB)\n",
            "\u001b[2K     \u001b[90m━━━━━━━━━━━━━━━━━━━━━━━━━━━━━━━━━━━━━━━━\u001b[0m \u001b[32m95.2/95.2 kB\u001b[0m \u001b[31m11.5 MB/s\u001b[0m eta \u001b[36m0:00:00\u001b[0m\n",
            "\u001b[?25hRequirement already satisfied: tabulate<0.10.0,>=0.9.0 in /usr/local/lib/python3.10/dist-packages (from marker-pdf) (0.9.0)\n",
            "Collecting texify<0.2.0,>=0.1.10 (from marker-pdf)\n",
            "  Downloading texify-0.1.10-py3-none-any.whl (30 kB)\n",
            "Requirement already satisfied: torch<3.0.0,>=2.2.2 in /usr/local/lib/python3.10/dist-packages (from marker-pdf) (2.3.0+cu121)\n",
            "Requirement already satisfied: tqdm<5.0.0,>=4.66.1 in /usr/local/lib/python3.10/dist-packages (from marker-pdf) (4.66.4)\n",
            "Requirement already satisfied: transformers<5.0.0,>=4.36.2 in /usr/local/lib/python3.10/dist-packages (from marker-pdf) (4.41.2)\n",
            "Requirement already satisfied: wcwidth<0.3.0,>=0.2.12 in /usr/local/lib/python3.10/dist-packages (from ftfy<7.0.0,>=6.1.1->marker-pdf) (0.2.13)\n",
            "Collecting pypdfium2<5.0.0,>=4.29.0 (from pdftext<0.4.0,>=0.3.10->marker-pdf)\n",
            "  Downloading pypdfium2-4.30.0-py3-none-manylinux_2_17_x86_64.manylinux2014_x86_64.whl (2.8 MB)\n",
            "\u001b[2K     \u001b[90m━━━━━━━━━━━━━━━━━━━━━━━━━━━━━━━━━━━━━━━━\u001b[0m \u001b[32m2.8/2.8 MB\u001b[0m \u001b[31m72.4 MB/s\u001b[0m eta \u001b[36m0:00:00\u001b[0m\n",
            "\u001b[?25hRequirement already satisfied: annotated-types>=0.4.0 in /usr/local/lib/python3.10/dist-packages (from pydantic<3.0.0,>=2.4.2->marker-pdf) (0.7.0)\n",
            "Requirement already satisfied: pydantic-core==2.20.1 in /usr/local/lib/python3.10/dist-packages (from pydantic<3.0.0,>=2.4.2->marker-pdf) (2.20.1)\n",
            "Requirement already satisfied: typing-extensions>=4.6.1 in /usr/local/lib/python3.10/dist-packages (from pydantic<3.0.0,>=2.4.2->marker-pdf) (4.12.2)\n",
            "Requirement already satisfied: scipy>=1.6.0 in /usr/local/lib/python3.10/dist-packages (from scikit-learn<=1.4.2,>=1.3.2->marker-pdf) (1.11.4)\n",
            "Requirement already satisfied: joblib>=1.2.0 in /usr/local/lib/python3.10/dist-packages (from scikit-learn<=1.4.2,>=1.3.2->marker-pdf) (1.4.2)\n",
            "Requirement already satisfied: threadpoolctl>=2.0.0 in /usr/local/lib/python3.10/dist-packages (from scikit-learn<=1.4.2,>=1.3.2->marker-pdf) (3.5.0)\n",
            "Collecting opencv-python<5.0.0.0,>=4.9.0.80 (from surya-ocr<0.5.0,>=0.4.15->marker-pdf)\n",
            "  Downloading opencv_python-4.10.0.84-cp37-abi3-manylinux_2_17_x86_64.manylinux2014_x86_64.whl (62.5 MB)\n",
            "\u001b[2K     \u001b[90m━━━━━━━━━━━━━━━━━━━━━━━━━━━━━━━━━━━━━━━━\u001b[0m \u001b[32m62.5/62.5 MB\u001b[0m \u001b[31m10.3 MB/s\u001b[0m eta \u001b[36m0:00:00\u001b[0m\n",
            "\u001b[?25hRequirement already satisfied: filelock in /usr/local/lib/python3.10/dist-packages (from torch<3.0.0,>=2.2.2->marker-pdf) (3.15.4)\n",
            "Requirement already satisfied: sympy in /usr/local/lib/python3.10/dist-packages (from torch<3.0.0,>=2.2.2->marker-pdf) (1.13.0)\n",
            "Requirement already satisfied: networkx in /usr/local/lib/python3.10/dist-packages (from torch<3.0.0,>=2.2.2->marker-pdf) (3.3)\n",
            "Requirement already satisfied: jinja2 in /usr/local/lib/python3.10/dist-packages (from torch<3.0.0,>=2.2.2->marker-pdf) (3.1.4)\n",
            "Requirement already satisfied: fsspec in /usr/local/lib/python3.10/dist-packages (from torch<3.0.0,>=2.2.2->marker-pdf) (2023.6.0)\n",
            "Collecting nvidia-cuda-nvrtc-cu12==12.1.105 (from torch<3.0.0,>=2.2.2->marker-pdf)\n",
            "  Using cached nvidia_cuda_nvrtc_cu12-12.1.105-py3-none-manylinux1_x86_64.whl (23.7 MB)\n",
            "Collecting nvidia-cuda-runtime-cu12==12.1.105 (from torch<3.0.0,>=2.2.2->marker-pdf)\n",
            "  Using cached nvidia_cuda_runtime_cu12-12.1.105-py3-none-manylinux1_x86_64.whl (823 kB)\n",
            "Collecting nvidia-cuda-cupti-cu12==12.1.105 (from torch<3.0.0,>=2.2.2->marker-pdf)\n",
            "  Using cached nvidia_cuda_cupti_cu12-12.1.105-py3-none-manylinux1_x86_64.whl (14.1 MB)\n",
            "Collecting nvidia-cudnn-cu12==8.9.2.26 (from torch<3.0.0,>=2.2.2->marker-pdf)\n",
            "  Using cached nvidia_cudnn_cu12-8.9.2.26-py3-none-manylinux1_x86_64.whl (731.7 MB)\n",
            "Collecting nvidia-cublas-cu12==12.1.3.1 (from torch<3.0.0,>=2.2.2->marker-pdf)\n",
            "  Using cached nvidia_cublas_cu12-12.1.3.1-py3-none-manylinux1_x86_64.whl (410.6 MB)\n",
            "Collecting nvidia-cufft-cu12==11.0.2.54 (from torch<3.0.0,>=2.2.2->marker-pdf)\n",
            "  Using cached nvidia_cufft_cu12-11.0.2.54-py3-none-manylinux1_x86_64.whl (121.6 MB)\n",
            "Collecting nvidia-curand-cu12==10.3.2.106 (from torch<3.0.0,>=2.2.2->marker-pdf)\n",
            "  Using cached nvidia_curand_cu12-10.3.2.106-py3-none-manylinux1_x86_64.whl (56.5 MB)\n",
            "Collecting nvidia-cusolver-cu12==11.4.5.107 (from torch<3.0.0,>=2.2.2->marker-pdf)\n",
            "  Using cached nvidia_cusolver_cu12-11.4.5.107-py3-none-manylinux1_x86_64.whl (124.2 MB)\n",
            "Collecting nvidia-cusparse-cu12==12.1.0.106 (from torch<3.0.0,>=2.2.2->marker-pdf)\n",
            "  Using cached nvidia_cusparse_cu12-12.1.0.106-py3-none-manylinux1_x86_64.whl (196.0 MB)\n",
            "Collecting nvidia-nccl-cu12==2.20.5 (from torch<3.0.0,>=2.2.2->marker-pdf)\n",
            "  Using cached nvidia_nccl_cu12-2.20.5-py3-none-manylinux2014_x86_64.whl (176.2 MB)\n",
            "Collecting nvidia-nvtx-cu12==12.1.105 (from torch<3.0.0,>=2.2.2->marker-pdf)\n",
            "  Using cached nvidia_nvtx_cu12-12.1.105-py3-none-manylinux1_x86_64.whl (99 kB)\n",
            "Requirement already satisfied: triton==2.3.0 in /usr/local/lib/python3.10/dist-packages (from torch<3.0.0,>=2.2.2->marker-pdf) (2.3.0)\n",
            "Collecting nvidia-nvjitlink-cu12 (from nvidia-cusolver-cu12==11.4.5.107->torch<3.0.0,>=2.2.2->marker-pdf)\n",
            "  Downloading nvidia_nvjitlink_cu12-12.5.82-py3-none-manylinux2014_x86_64.whl (21.3 MB)\n",
            "\u001b[2K     \u001b[90m━━━━━━━━━━━━━━━━━━━━━━━━━━━━━━━━━━━━━━━━\u001b[0m \u001b[32m21.3/21.3 MB\u001b[0m \u001b[31m62.3 MB/s\u001b[0m eta \u001b[36m0:00:00\u001b[0m\n",
            "\u001b[?25hRequirement already satisfied: huggingface-hub<1.0,>=0.23.0 in /usr/local/lib/python3.10/dist-packages (from transformers<5.0.0,>=4.36.2->marker-pdf) (0.23.4)\n",
            "Requirement already satisfied: packaging>=20.0 in /usr/local/lib/python3.10/dist-packages (from transformers<5.0.0,>=4.36.2->marker-pdf) (24.1)\n",
            "Requirement already satisfied: pyyaml>=5.1 in /usr/local/lib/python3.10/dist-packages (from transformers<5.0.0,>=4.36.2->marker-pdf) (6.0.1)\n",
            "Requirement already satisfied: requests in /usr/local/lib/python3.10/dist-packages (from transformers<5.0.0,>=4.36.2->marker-pdf) (2.31.0)\n",
            "Requirement already satisfied: tokenizers<0.20,>=0.19 in /usr/local/lib/python3.10/dist-packages (from transformers<5.0.0,>=4.36.2->marker-pdf) (0.19.1)\n",
            "Requirement already satisfied: safetensors>=0.4.1 in /usr/local/lib/python3.10/dist-packages (from transformers<5.0.0,>=4.36.2->marker-pdf) (0.4.3)\n",
            "Requirement already satisfied: MarkupSafe>=2.0 in /usr/local/lib/python3.10/dist-packages (from jinja2->torch<3.0.0,>=2.2.2->marker-pdf) (2.1.5)\n",
            "Requirement already satisfied: charset-normalizer<4,>=2 in /usr/local/lib/python3.10/dist-packages (from requests->transformers<5.0.0,>=4.36.2->marker-pdf) (3.3.2)\n",
            "Requirement already satisfied: idna<4,>=2.5 in /usr/local/lib/python3.10/dist-packages (from requests->transformers<5.0.0,>=4.36.2->marker-pdf) (3.7)\n",
            "Requirement already satisfied: urllib3<3,>=1.21.1 in /usr/local/lib/python3.10/dist-packages (from requests->transformers<5.0.0,>=4.36.2->marker-pdf) (2.0.7)\n",
            "Requirement already satisfied: certifi>=2017.4.17 in /usr/local/lib/python3.10/dist-packages (from requests->transformers<5.0.0,>=4.36.2->marker-pdf) (2024.7.4)\n",
            "Requirement already satisfied: mpmath<1.4,>=1.1.0 in /usr/local/lib/python3.10/dist-packages (from sympy->torch<3.0.0,>=2.2.2->marker-pdf) (1.3.0)\n",
            "Installing collected packages: filetype, rapidfuzz, python-dotenv, pypdfium2, Pillow, nvidia-nvtx-cu12, nvidia-nvjitlink-cu12, nvidia-nccl-cu12, nvidia-curand-cu12, nvidia-cufft-cu12, nvidia-cuda-runtime-cu12, nvidia-cuda-nvrtc-cu12, nvidia-cuda-cupti-cu12, nvidia-cublas-cu12, numpy, ftfy, opencv-python, nvidia-cusparse-cu12, nvidia-cudnn-cu12, scikit-learn, pydantic-settings, nvidia-cusolver-cu12, pdftext, texify, surya-ocr, marker-pdf\n",
            "  Attempting uninstall: Pillow\n",
            "    Found existing installation: Pillow 9.4.0\n",
            "    Uninstalling Pillow-9.4.0:\n",
            "      Successfully uninstalled Pillow-9.4.0\n",
            "  Attempting uninstall: numpy\n",
            "    Found existing installation: numpy 1.25.2\n",
            "    Uninstalling numpy-1.25.2:\n",
            "      Successfully uninstalled numpy-1.25.2\n",
            "  Attempting uninstall: opencv-python\n",
            "    Found existing installation: opencv-python 4.8.0.76\n",
            "    Uninstalling opencv-python-4.8.0.76:\n",
            "      Successfully uninstalled opencv-python-4.8.0.76\n",
            "  Attempting uninstall: scikit-learn\n",
            "    Found existing installation: scikit-learn 1.2.2\n",
            "    Uninstalling scikit-learn-1.2.2:\n",
            "      Successfully uninstalled scikit-learn-1.2.2\n",
            "\u001b[31mERROR: pip's dependency resolver does not currently take into account all the packages that are installed. This behaviour is the source of the following dependency conflicts.\n",
            "imageio 2.31.6 requires pillow<10.1.0,>=8.3.2, but you have pillow 10.4.0 which is incompatible.\u001b[0m\u001b[31m\n",
            "\u001b[0mSuccessfully installed Pillow-10.4.0 filetype-1.2.0 ftfy-6.2.0 marker-pdf-0.2.16 numpy-1.26.4 nvidia-cublas-cu12-12.1.3.1 nvidia-cuda-cupti-cu12-12.1.105 nvidia-cuda-nvrtc-cu12-12.1.105 nvidia-cuda-runtime-cu12-12.1.105 nvidia-cudnn-cu12-8.9.2.26 nvidia-cufft-cu12-11.0.2.54 nvidia-curand-cu12-10.3.2.106 nvidia-cusolver-cu12-11.4.5.107 nvidia-cusparse-cu12-12.1.0.106 nvidia-nccl-cu12-2.20.5 nvidia-nvjitlink-cu12-12.5.82 nvidia-nvtx-cu12-12.1.105 opencv-python-4.10.0.84 pdftext-0.3.10 pydantic-settings-2.3.4 pypdfium2-4.30.0 python-dotenv-1.0.1 rapidfuzz-3.9.4 scikit-learn-1.4.2 surya-ocr-0.4.15 texify-0.1.10\n"
          ]
        },
        {
          "data": {
            "application/vnd.colab-display-data+json": {
              "id": "1e185a1337e64159af7ab64d9f518176",
              "pip_warning": {
                "packages": [
                  "PIL"
                ]
              }
            }
          },
          "metadata": {},
          "output_type": "display_data"
        }
      ],
      "source": [
        "!pip install marker-pdf"
      ]
    },
    {
      "cell_type": "code",
      "execution_count": null,
      "metadata": {
        "colab": {
          "base_uri": "https://localhost:8080/"
        },
        "id": "DjLXG1p9Kq-6",
        "outputId": "82d02ddb-9985-4e4a-be42-ca29fccc9b78"
      },
      "outputs": [
        {
          "name": "stdout",
          "output_type": "stream",
          "text": [
            "Collecting ocrmypdf\n",
            "  Using cached ocrmypdf-16.4.1-py310-none-any.whl (157 kB)\n",
            "Collecting deprecation>=2.1.0 (from ocrmypdf)\n",
            "  Using cached deprecation-2.1.0-py2.py3-none-any.whl (11 kB)\n",
            "Collecting img2pdf>=0.5 (from ocrmypdf)\n",
            "  Using cached img2pdf-0.5.1-py3-none-any.whl\n",
            "Requirement already satisfied: packaging>=20 in /usr/local/lib/python3.10/dist-packages (from ocrmypdf) (24.1)\n",
            "Collecting pdfminer.six>=20220319 (from ocrmypdf)\n",
            "  Using cached pdfminer.six-20240706-py3-none-any.whl (5.6 MB)\n",
            "Collecting pi-heif (from ocrmypdf)\n",
            "  Using cached pi_heif-0.17.0-cp310-cp310-manylinux_2_17_x86_64.manylinux2014_x86_64.whl (928 kB)\n",
            "Collecting pikepdf>=8.10.1 (from ocrmypdf)\n",
            "  Using cached pikepdf-9.0.0-cp310-cp310-manylinux_2_17_x86_64.manylinux2014_x86_64.whl (2.4 MB)\n",
            "Requirement already satisfied: Pillow>=10.0.1 in /usr/local/lib/python3.10/dist-packages (from ocrmypdf) (10.4.0)\n",
            "Requirement already satisfied: pluggy>=1 in /usr/local/lib/python3.10/dist-packages (from ocrmypdf) (1.5.0)\n",
            "Requirement already satisfied: rich>=13 in /usr/local/lib/python3.10/dist-packages (from ocrmypdf) (13.7.1)\n",
            "Requirement already satisfied: charset-normalizer>=2.0.0 in /usr/local/lib/python3.10/dist-packages (from pdfminer.six>=20220319->ocrmypdf) (3.3.2)\n",
            "Requirement already satisfied: cryptography>=36.0.0 in /usr/local/lib/python3.10/dist-packages (from pdfminer.six>=20220319->ocrmypdf) (42.0.8)\n",
            "Collecting Deprecated (from pikepdf>=8.10.1->ocrmypdf)\n",
            "  Using cached Deprecated-1.2.14-py2.py3-none-any.whl (9.6 kB)\n",
            "Requirement already satisfied: lxml>=4.8 in /usr/local/lib/python3.10/dist-packages (from pikepdf>=8.10.1->ocrmypdf) (4.9.4)\n",
            "Requirement already satisfied: markdown-it-py>=2.2.0 in /usr/local/lib/python3.10/dist-packages (from rich>=13->ocrmypdf) (3.0.0)\n",
            "Requirement already satisfied: pygments<3.0.0,>=2.13.0 in /usr/local/lib/python3.10/dist-packages (from rich>=13->ocrmypdf) (2.16.1)\n",
            "Requirement already satisfied: cffi>=1.12 in /usr/local/lib/python3.10/dist-packages (from cryptography>=36.0.0->pdfminer.six>=20220319->ocrmypdf) (1.16.0)\n",
            "Requirement already satisfied: mdurl~=0.1 in /usr/local/lib/python3.10/dist-packages (from markdown-it-py>=2.2.0->rich>=13->ocrmypdf) (0.1.2)\n",
            "Requirement already satisfied: wrapt<2,>=1.10 in /usr/local/lib/python3.10/dist-packages (from Deprecated->pikepdf>=8.10.1->ocrmypdf) (1.14.1)\n",
            "Requirement already satisfied: pycparser in /usr/local/lib/python3.10/dist-packages (from cffi>=1.12->cryptography>=36.0.0->pdfminer.six>=20220319->ocrmypdf) (2.22)\n",
            "Installing collected packages: pi-heif, deprecation, Deprecated, pikepdf, pdfminer.six, img2pdf, ocrmypdf\n",
            "Successfully installed Deprecated-1.2.14 deprecation-2.1.0 img2pdf-0.5.1 ocrmypdf-16.4.1 pdfminer.six-20240706 pi-heif-0.17.0 pikepdf-9.0.0\n"
          ]
        }
      ],
      "source": [
        "!pip install ocrmypdf"
      ]
    },
    {
      "cell_type": "markdown",
      "metadata": {
        "id": "bOJblJBz2wgM"
      },
      "source": [
        "## PDF1"
      ]
    },
    {
      "cell_type": "code",
      "execution_count": null,
      "metadata": {
        "colab": {
          "base_uri": "https://localhost:8080/"
        },
        "id": "o02jgH1dzoZH",
        "outputId": "371c6c64-c9f7-4b88-ac0e-5cf35203f1b1"
      },
      "outputs": [
        {
          "name": "stdout",
          "output_type": "stream",
          "text": [
            "/bin/bash: line 1: marker_single: command not found\n"
          ]
        }
      ],
      "source": [
        "!marker_single /content/drive/MyDrive/Mely_Project/test_folder/testpdf.pdf /content/ --batch_multiplier 2 --max_pages 15 --langs Vietnamese"
      ]
    },
    {
      "cell_type": "markdown",
      "metadata": {
        "id": "cbqE2B7p25PV"
      },
      "source": [
        "## PDF2"
      ]
    },
    {
      "cell_type": "code",
      "execution_count": null,
      "metadata": {
        "colab": {
          "base_uri": "https://localhost:8080/"
        },
        "id": "TASf_k4T06XU",
        "outputId": "dbe30495-9f94-4b2f-c6b1-1bfdd1ab0996"
      },
      "outputs": [
        {
          "name": "stdout",
          "output_type": "stream",
          "text": [
            "2024-07-17 13:24:02.114649: E external/local_xla/xla/stream_executor/cuda/cuda_dnn.cc:9261] Unable to register cuDNN factory: Attempting to register factory for plugin cuDNN when one has already been registered\n",
            "2024-07-17 13:24:02.114723: E external/local_xla/xla/stream_executor/cuda/cuda_fft.cc:607] Unable to register cuFFT factory: Attempting to register factory for plugin cuFFT when one has already been registered\n",
            "2024-07-17 13:24:02.116265: E external/local_xla/xla/stream_executor/cuda/cuda_blas.cc:1515] Unable to register cuBLAS factory: Attempting to register factory for plugin cuBLAS when one has already been registered\n",
            "2024-07-17 13:24:02.124565: I tensorflow/core/platform/cpu_feature_guard.cc:182] This TensorFlow binary is optimized to use available CPU instructions in performance-critical operations.\n",
            "To enable the following instructions: AVX2 FMA, in other operations, rebuild TensorFlow with the appropriate compiler flags.\n",
            "2024-07-17 13:24:03.399131: W tensorflow/compiler/tf2tensorrt/utils/py_utils.cc:38] TF-TRT Warning: Could not find TensorRT\n",
            "Loaded detection model vikp/surya_det3 on device cuda with dtype torch.float16\n",
            "Loaded detection model vikp/surya_layout3 on device cuda with dtype torch.float16\n",
            "Loaded reading order model vikp/surya_order on device cuda with dtype torch.float16\n",
            "Loaded recognition model vikp/surya_rec on device cuda with dtype torch.float16\n",
            "Loaded texify model to cuda with torch.float16 dtype\n",
            "/usr/lib/python3.10/multiprocessing/popen_fork.py:66: RuntimeWarning: os.fork() was called. os.fork() is incompatible with multithreaded code, and JAX is multithreaded, so this will likely lead to a deadlock.\n",
            "  self.pid = os.fork()\n",
            "Detecting bboxes: 100% 15/15 [00:23<00:00,  1.56s/it]\n",
            "Recognizing Text: 100% 27/27 [01:08<00:00,  2.55s/it]\n",
            "Detecting bboxes: 100% 10/10 [00:31<00:00,  3.14s/it]\n",
            "Finding reading order: 100% 10/10 [00:20<00:00,  2.06s/it]\n",
            "Saved markdown to the /content/testpdf2 folder\n"
          ]
        }
      ],
      "source": [
        "!marker_single /content/drive/MyDrive/Mely_Project/test_folder/testpdf2.pdf /content/ --batch_multiplier 2 --max_pages 200 --langs Vietnamese"
      ]
    },
    {
      "cell_type": "markdown",
      "metadata": {
        "id": "RVOnsU4E3T7_"
      },
      "source": [
        "## PDF3"
      ]
    },
    {
      "cell_type": "code",
      "execution_count": null,
      "metadata": {
        "colab": {
          "base_uri": "https://localhost:8080/"
        },
        "id": "vA4_QrQ73TmY",
        "outputId": "71c99d90-bfc7-456e-988f-dbc64db5af6d"
      },
      "outputs": [
        {
          "name": "stdout",
          "output_type": "stream",
          "text": [
            "2024-07-17 14:57:11.971343: E external/local_xla/xla/stream_executor/cuda/cuda_dnn.cc:9261] Unable to register cuDNN factory: Attempting to register factory for plugin cuDNN when one has already been registered\n",
            "2024-07-17 14:57:11.971405: E external/local_xla/xla/stream_executor/cuda/cuda_fft.cc:607] Unable to register cuFFT factory: Attempting to register factory for plugin cuFFT when one has already been registered\n",
            "2024-07-17 14:57:11.972994: E external/local_xla/xla/stream_executor/cuda/cuda_blas.cc:1515] Unable to register cuBLAS factory: Attempting to register factory for plugin cuBLAS when one has already been registered\n",
            "2024-07-17 14:57:11.981118: I tensorflow/core/platform/cpu_feature_guard.cc:182] This TensorFlow binary is optimized to use available CPU instructions in performance-critical operations.\n",
            "To enable the following instructions: AVX2 FMA, in other operations, rebuild TensorFlow with the appropriate compiler flags.\n",
            "2024-07-17 14:57:13.102603: W tensorflow/compiler/tf2tensorrt/utils/py_utils.cc:38] TF-TRT Warning: Could not find TensorRT\n",
            "Loaded detection model vikp/surya_det3 on device cuda with dtype torch.float16\n",
            "Loaded detection model vikp/surya_layout3 on device cuda with dtype torch.float16\n",
            "Loaded reading order model vikp/surya_order on device cuda with dtype torch.float16\n",
            "Loaded recognition model vikp/surya_rec on device cuda with dtype torch.float16\n",
            "Loaded texify model to cuda with torch.float16 dtype\n",
            "Detecting bboxes: 100% 1/1 [00:01<00:00,  1.44s/it]\n",
            "/usr/lib/python3.10/multiprocessing/popen_fork.py:66: RuntimeWarning: os.fork() was called. os.fork() is incompatible with multithreaded code, and JAX is multithreaded, so this will likely lead to a deadlock.\n",
            "  self.pid = os.fork()\n",
            "Detecting bboxes: 100% 1/1 [00:02<00:00,  2.00s/it]\n",
            "Finding reading order: 100% 1/1 [00:01<00:00,  1.75s/it]\n",
            "Saved markdown to the /content/testpdfpaper-rutgon folder\n"
          ]
        }
      ],
      "source": [
        "!marker_single /content/drive/MyDrive/Mely_Project/test_folder/testpdfpaper-rutgon.pdf /content/ --batch_multiplier 2 --max_pages 50 --langs English"
      ]
    },
    {
      "cell_type": "markdown",
      "metadata": {
        "id": "JLfM4GUs35HH"
      },
      "source": [
        "## PDF4"
      ]
    },
    {
      "cell_type": "code",
      "execution_count": null,
      "metadata": {
        "colab": {
          "base_uri": "https://localhost:8080/"
        },
        "id": "Da8ymYib3R6j",
        "outputId": "0ed478f1-c5cd-4a14-ecc1-0045009df44f"
      },
      "outputs": [
        {
          "name": "stdout",
          "output_type": "stream",
          "text": [
            "2024-07-17 14:59:02.849787: E external/local_xla/xla/stream_executor/cuda/cuda_dnn.cc:9261] Unable to register cuDNN factory: Attempting to register factory for plugin cuDNN when one has already been registered\n",
            "2024-07-17 14:59:02.849845: E external/local_xla/xla/stream_executor/cuda/cuda_fft.cc:607] Unable to register cuFFT factory: Attempting to register factory for plugin cuFFT when one has already been registered\n",
            "2024-07-17 14:59:02.851393: E external/local_xla/xla/stream_executor/cuda/cuda_blas.cc:1515] Unable to register cuBLAS factory: Attempting to register factory for plugin cuBLAS when one has already been registered\n",
            "2024-07-17 14:59:02.859430: I tensorflow/core/platform/cpu_feature_guard.cc:182] This TensorFlow binary is optimized to use available CPU instructions in performance-critical operations.\n",
            "To enable the following instructions: AVX2 FMA, in other operations, rebuild TensorFlow with the appropriate compiler flags.\n",
            "2024-07-17 14:59:03.985603: W tensorflow/compiler/tf2tensorrt/utils/py_utils.cc:38] TF-TRT Warning: Could not find TensorRT\n",
            "Loaded detection model vikp/surya_det3 on device cuda with dtype torch.float16\n",
            "Loaded detection model vikp/surya_layout3 on device cuda with dtype torch.float16\n",
            "Loaded reading order model vikp/surya_order on device cuda with dtype torch.float16\n",
            "Loaded recognition model vikp/surya_rec on device cuda with dtype torch.float16\n",
            "Loaded texify model to cuda with torch.float16 dtype\n",
            "Detecting bboxes: 100% 1/1 [00:01<00:00,  1.04s/it]\n",
            "/usr/lib/python3.10/multiprocessing/popen_fork.py:66: RuntimeWarning: os.fork() was called. os.fork() is incompatible with multithreaded code, and JAX is multithreaded, so this will likely lead to a deadlock.\n",
            "  self.pid = os.fork()\n",
            "Detecting bboxes: 100% 1/1 [00:01<00:00,  1.35s/it]\n",
            "Finding reading order: 100% 1/1 [00:01<00:00,  1.44s/it]\n",
            "Saved markdown to the /content/testpdfpaper2-rutgon folder\n"
          ]
        }
      ],
      "source": [
        "!marker_single /content/drive/MyDrive/Mely_Project/test_folder/testpdfpaper2-rutgon.pdf /content/ --batch_multiplier 2 --max_pages 50 --langs English"
      ]
    },
    {
      "cell_type": "code",
      "execution_count": null,
      "metadata": {
        "id": "vedZKw2o38Cz"
      },
      "outputs": [],
      "source": [
        "# prompt: chuyển folder /content/testpdf sang /content/drive/MyDrive/Mely_Project/makerPDF\n",
        "\n",
        "!mv /content/testpdfpaper2-rutgon /content/drive/MyDrive/Mely_Project/makerPDF\n"
      ]
    },
    {
      "cell_type": "markdown",
      "metadata": {
        "id": "l4efeIACQfHO"
      },
      "source": [
        "## Nhận xét\n",
        "### PDF1\n",
        "- Không xác định chuẩn được thứ tự đọc\n",
        "- Không nhận dạng được các biểu đồ text và biểu đồ text kết hợp hình ảnh\n",
        "- Trừ bảng cuối thì các bảng còn lại trích tốt\n",
        "\n",
        "### PDF2\n",
        "- Phân tích được các headings\n",
        "- Trích ảnh khá tốt\n",
        "- Không đọc được sơ đồ\n",
        "\n",
        "### PDF3\n",
        "- Xử lí inline math không tốt, block math tốt\n",
        "- Ở PDF3, bảng 1 bị lệch 1 hàng, cả bảng 2 không nhận dạng được, bảng 3 sai các hàng đầu (nhìn chung các hàng liên quan đến số sẽ ít có khả năng lỗi hơn các hàng label chữ và spanrow, spancol), bảng 4 không lỗi\n",
        "- Ảnh extract tốt\n",
        "\n",
        "## PDF4\n",
        "- Trích xuất ảnh tốt\n",
        "- Khi ảnh chen ngang đoạn đọc thì sẽ bị ngắt đoạn\n",
        "- Không đọc được kí hiệu đặc biệt trên bảng như X hay tick\n",
        "- Không đọc được bảng lớn"
      ]
    },
    {
      "cell_type": "markdown",
      "metadata": {
        "id": "vVRjuog14dgA"
      },
      "source": [
        "# To LaTex"
      ]
    },
    {
      "cell_type": "code",
      "execution_count": null,
      "metadata": {
        "colab": {
          "base_uri": "https://localhost:8080/"
        },
        "id": "38B82E8p6a6i",
        "outputId": "2d9b8cee-023c-4083-ab85-e032e93f1e8b"
      },
      "outputs": [
        {
          "name": "stdout",
          "output_type": "stream",
          "text": [
            "Requirement already satisfied: pdf2image in /usr/local/lib/python3.10/dist-packages (1.17.0)\n",
            "Requirement already satisfied: pillow in /usr/local/lib/python3.10/dist-packages (from pdf2image) (9.4.0)\n"
          ]
        }
      ],
      "source": [
        "!pip install pdf2image"
      ]
    },
    {
      "cell_type": "code",
      "execution_count": null,
      "metadata": {
        "colab": {
          "base_uri": "https://localhost:8080/"
        },
        "id": "RYUZD3Oo6nIZ",
        "outputId": "7e44388c-98bf-4183-e2f6-800aa7108bd8"
      },
      "outputs": [
        {
          "name": "stdout",
          "output_type": "stream",
          "text": [
            "Requirement already satisfied: pytesseract in /usr/local/lib/python3.10/dist-packages (0.3.10)\n",
            "Requirement already satisfied: packaging>=21.3 in /usr/local/lib/python3.10/dist-packages (from pytesseract) (24.1)\n",
            "Requirement already satisfied: Pillow>=8.0.0 in /usr/local/lib/python3.10/dist-packages (from pytesseract) (9.4.0)\n"
          ]
        }
      ],
      "source": [
        "!pip install pytesseract"
      ]
    },
    {
      "cell_type": "code",
      "execution_count": null,
      "metadata": {
        "colab": {
          "base_uri": "https://localhost:8080/"
        },
        "id": "tyxmRKmn4f3f",
        "outputId": "d6d5f701-a6a3-4060-bcf0-35a2ee6bae02"
      },
      "outputs": [
        {
          "name": "stdout",
          "output_type": "stream",
          "text": [
            "fatal: destination path 'pdftolatex' already exists and is not an empty directory.\n"
          ]
        }
      ],
      "source": [
        "!git clone https://github.com/vinaykanigicherla/pdftolatex"
      ]
    },
    {
      "cell_type": "code",
      "execution_count": null,
      "metadata": {
        "colab": {
          "base_uri": "https://localhost:8080/"
        },
        "id": "hSr-6S887dZf",
        "outputId": "0fdff93b-0f91-437c-ff8c-faba3574ee5a"
      },
      "outputs": [
        {
          "name": "stdout",
          "output_type": "stream",
          "text": [
            "Reading package lists... Done\n",
            "Building dependency tree... Done\n",
            "Reading state information... Done\n",
            "poppler-utils is already the newest version (22.02.0-2ubuntu0.4).\n",
            "0 upgraded, 0 newly installed, 0 to remove and 45 not upgraded.\n"
          ]
        }
      ],
      "source": [
        "!apt-get install -y poppler-utils\n"
      ]
    },
    {
      "cell_type": "code",
      "execution_count": null,
      "metadata": {
        "colab": {
          "base_uri": "https://localhost:8080/"
        },
        "id": "2lSkIkjt9Hec",
        "outputId": "e7c2aada-eda6-45ce-d08b-2d8f649f1100"
      },
      "outputs": [
        {
          "name": "stdout",
          "output_type": "stream",
          "text": [
            "Reading package lists... Done\n",
            "Building dependency tree... Done\n",
            "Reading state information... Done\n",
            "tesseract-ocr is already the newest version (4.1.1-2.1build1).\n",
            "0 upgraded, 0 newly installed, 0 to remove and 45 not upgraded.\n"
          ]
        }
      ],
      "source": [
        "!apt-get install -y tesseract-ocr\n"
      ]
    },
    {
      "cell_type": "code",
      "execution_count": null,
      "metadata": {
        "colab": {
          "base_uri": "https://localhost:8080/"
        },
        "id": "LM6bHG4E444D",
        "outputId": "21f6982a-a292-4e78-eddf-bf2eeaa27687"
      },
      "outputs": [
        {
          "name": "stdout",
          "output_type": "stream",
          "text": [
            "Segmenting pages for testpdf...\n",
            "100% 9/9 [01:36<00:00, 10.76s/it]\n",
            "Generating LaTex... for testpdf\n",
            "100% 9/9 [00:00<00:00, 80.10it/s]\n",
            "Wrote 87 strings to /content/drive/MyDrive/Mely_Project/test_folder/testpdf.tex\n"
          ]
        }
      ],
      "source": [
        "!python /content/pdftolatex/convert_pdf.py --filepath /content/drive/MyDrive/Mely_Project/test_folder/testpdf.pdf"
      ]
    },
    {
      "cell_type": "code",
      "execution_count": null,
      "metadata": {
        "id": "rUrjWWGx4zIR"
      },
      "outputs": [],
      "source": [
        "!mv /content/drive/MyDrive/Mely_Project/test_folder/testpdf.tex /content/drive/MyDrive/Mely_Project/pdftolatex/pdf1\n",
        "# !mv /content/localstore /content/drive/MyDrive/Mely_Project/pdftolatex/pdf2/content\n"
      ]
    },
    {
      "cell_type": "markdown",
      "metadata": {
        "id": "XXlT6cLSipoa"
      },
      "source": [
        "## Nhận xét\n",
        "- Khả năng lưu giữ thông tin kém vì không thể extract được các công thức toán và bảng\n",
        "- Nhầm lẫn text và hình ảnh, không có OCR"
      ]
    },
    {
      "cell_type": "markdown",
      "metadata": {
        "id": "jeJrt9IHLe4C"
      },
      "source": [
        "# To HTML"
      ]
    },
    {
      "cell_type": "code",
      "execution_count": null,
      "metadata": {
        "colab": {
          "base_uri": "https://localhost:8080/"
        },
        "id": "y26wSM8X9uat",
        "outputId": "b11d7f8c-b02e-433d-c9a6-dc370be54992"
      },
      "outputs": [
        {
          "name": "stdout",
          "output_type": "stream",
          "text": [
            "Selecting previously unselected package pdf2htmlex.\n",
            "(Reading database ... 123586 files and directories currently installed.)\n",
            "Preparing to unpack .../pdf2htmlEX-0.18.8.rc1-master-20200630-Ubuntu-focal-x86_64.deb ...\n",
            "Unpacking pdf2htmlex (0.0.18.8.rc1.master.focal.20200630-0) ...\n",
            "Setting up pdf2htmlex (0.0.18.8.rc1.master.focal.20200630-0) ...\n",
            "Processing triggers for man-db (2.10.2-1) ...\n",
            "Reading package lists... Done\n",
            "Building dependency tree... Done\n",
            "Reading state information... Done\n",
            "0 upgraded, 0 newly installed, 0 to remove and 45 not upgraded.\n"
          ]
        }
      ],
      "source": [
        "!sudo dpkg -i /content/drive/MyDrive/Mely_Project/pdf2htmlEX-0.18.8.rc1-master-20200630-Ubuntu-focal-x86_64.deb\n",
        "!apt-get install -f"
      ]
    },
    {
      "cell_type": "code",
      "execution_count": null,
      "metadata": {
        "colab": {
          "base_uri": "https://localhost:8080/"
        },
        "id": "knLTx5iQBdfX",
        "outputId": "0b97ed61-a399-46f5-8996-5f56916fbeca"
      },
      "outputs": [
        {
          "name": "stdout",
          "output_type": "stream",
          "text": [
            "Preprocessing: 12/12\n",
            "Working: 12/12\n",
            "\n"
          ]
        }
      ],
      "source": [
        "!pdf2htmlEX /content/drive/MyDrive/Mely_Project/test_folder/testpdf2-rutgon.pdf"
      ]
    },
    {
      "cell_type": "code",
      "execution_count": null,
      "metadata": {
        "colab": {
          "base_uri": "https://localhost:8080/"
        },
        "collapsed": true,
        "id": "fi4xTZvkDKLq",
        "outputId": "5b5d1106-1449-4bc2-9f04-6cfaff58e00c"
      },
      "outputs": [
        {
          "name": "stdout",
          "output_type": "stream",
          "text": [
            "Usage: pdf2htmlEX [options] <input.pdf> [<output.html>]\n",
            "  -f,--first-page <int>         first page to convert (default: 1)\n",
            "  -l,--last-page <int>          last page to convert (default: 2147483647)\n",
            "  --zoom <fp>                   zoom ratio\n",
            "  --fit-width <fp>              fit width to <fp> pixels\n",
            "  --fit-height <fp>             fit height to <fp> pixels\n",
            "  --use-cropbox <int>           use CropBox instead of MediaBox (default: 1)\n",
            "  --dpi <fp>                    Resolution for graphics in DPI (default: 144)\n",
            "  --embed <string>              specify which elements should be embedded into output\n",
            "  --embed-css <int>             embed CSS files into output (default: 1)\n",
            "  --embed-font <int>            embed font files into output (default: 1)\n",
            "  --embed-image <int>           embed image files into output (default: 1)\n",
            "  --embed-javascript <int>      embed JavaScript files into output (default: 1)\n",
            "  --embed-outline <int>         embed outlines into output (default: 1)\n",
            "  --split-pages <int>           split pages into separate files (default: 0)\n",
            "  --dest-dir <string>           specify destination directory (default: \".\")\n",
            "  --css-filename <string>       filename of the generated css file (default: \"\")\n",
            "  --page-filename <string>      filename template for split pages  (default: \"\")\n",
            "  --outline-filename <string>   filename of the generated outline file (default: \"\")\n",
            "  --process-nontext <int>       render graphics in addition to text (default: 1)\n",
            "  --process-outline <int>       show outline in HTML (default: 1)\n",
            "  --process-annotation <int>    show annotation in HTML (default: 0)\n",
            "  --process-form <int>          include text fields and radio buttons (default: 0)\n",
            "  --printing <int>              enable printing support (default: 1)\n",
            "  --fallback <int>              output in fallback mode (default: 0)\n",
            "  --tmp-file-size-limit <int>   Maximum size (in KB) used by temporary files, -1 for no limit (default: -1)\n",
            "  --embed-external-font <int>   embed local match for external fonts (default: 1)\n",
            "  --font-format <string>        suffix for embedded font files (ttf,otf,woff,svg) (default: \"woff\")\n",
            "  --decompose-ligature <int>    decompose ligatures, such as ﬁ -> fi (default: 0)\n",
            "  --turn-off-ligatures <int>    explicitly tell browsers not to use ligatures (default: 0)\n",
            "  --auto-hint <int>             use fontforge autohint on fonts without hints (default: 0)\n",
            "  --external-hint-tool <string> external tool for hinting fonts (overrides --auto-hint) (default: \"\")\n",
            "  --stretch-narrow-glyph <int>  stretch narrow glyphs instead of padding them (default: 0)\n",
            "  --squeeze-wide-glyph <int>    shrink wide glyphs instead of truncating them (default: 1)\n",
            "  --override-fstype <int>       clear the fstype bits in TTF/OTF fonts (default: 0)\n",
            "  --process-type3 <int>         convert Type 3 fonts for web (experimental) (default: 0)\n",
            "  --heps <fp>                   horizontal threshold for merging text, in pixels (default: 1)\n",
            "  --veps <fp>                   vertical threshold for merging text, in pixels (default: 1)\n",
            "  --space-threshold <fp>        word break threshold (threshold * em) (default: 0.125)\n",
            "  --font-size-multiplier <fp>   a value greater than 1 increases the rendering accuracy (default: 4)\n",
            "  --space-as-offset <int>       treat space characters as offsets (default: 0)\n",
            "  --tounicode <int>             how to handle ToUnicode CMaps (0=auto, 1=force, -1=ignore) (default: 0)\n",
            "  --optimize-text <int>         try to reduce the number of HTML elements used for text (default: 0)\n",
            "  --correct-text-visibility <int> 0: Don't do text visibility checks. 1: Fully occluded text handled. 2: Partially occluded text handled (default: 1)\n",
            "  --covered-text-dpi <fp>       Rendering DPI to use if correct-text-visibility == 2 and there is partially covered text on the page (default: 300)\n",
            "  --bg-format <string>          specify background image format (default: \"png\")\n",
            "  --svg-node-count-limit <int>  if node count in a svg background image exceeds this limit, fall back this page to bitmap background; negative value means no limit (default: -1)\n",
            "  --svg-embed-bitmap <int>      1: embed bitmaps in svg background; 0: dump bitmaps to external files if possible (default: 1)\n",
            "  -o,--owner-password <string>  owner password (for encrypted files)\n",
            "  -u,--user-password <string>   user password (for encrypted files)\n",
            "  --no-drm <int>                override document DRM settings (default: 0)\n",
            "  --clean-tmp <int>             remove temporary files after conversion (default: 1)\n",
            "  --tmp-dir <string>            specify the location of temporary directory (default: \"/tmp\")\n",
            "  --data-dir <string>           specify data directory (default: \"/usr/local/share/pdf2htmlEX\")\n",
            "  --poppler-data-dir <string>   specify poppler data directory (default: \"/usr/local/share/pdf2htmlEX/poppler\")\n",
            "  --debug <int>                 print debugging information (default: 0)\n",
            "  --proof <int>                 texts are drawn on both text layer and background for proof (default: 0)\n",
            "  --quiet <int>                 perform operations quietly (default: 0)\n",
            "  -v,--version                  print copyright and version info\n",
            "  -h,--help                     print usage information\n"
          ]
        }
      ],
      "source": [
        "!pdf2htmlEX  --help\n"
      ]
    },
    {
      "cell_type": "code",
      "execution_count": null,
      "metadata": {
        "id": "Tytcb1BPMY-7"
      },
      "outputs": [],
      "source": [
        "!rm /content/testpdf2-rutgon.html"
      ]
    },
    {
      "cell_type": "code",
      "execution_count": null,
      "metadata": {
        "id": "ULZxisnQYDr1"
      },
      "outputs": [],
      "source": [
        "!mv /content/testpdf2-rutgon.html /content/drive/MyDrive/Mely_Project/pdf2htmlEX\n"
      ]
    },
    {
      "cell_type": "code",
      "execution_count": null,
      "metadata": {
        "id": "3yfd8ex4dYvI"
      },
      "outputs": [],
      "source": [
        "# prompt: copy folder  /content/testpdf2-rutgon.html to\n",
        "# /content/drive/MyDrive/Mely_Project/pdf2htmlEX\n",
        "\n",
        "!cp -r /content/testpdf2-rutgon.html /content/drive/MyDrive/Mely_Project/pdf2htmlEX\n"
      ]
    },
    {
      "cell_type": "markdown",
      "metadata": {
        "id": "y4I-sSRoCxYd"
      },
      "source": [
        "## Nhận xét\n",
        "- Hình thức đẹp, ra được output y hệt như bản pdf. Tuy nhiên, xét về khả năng lưu trữ thông tin sẽ không tốt vì không có cấu trúc hợp lí (bảng, ảnh và text không có cấu trúc riêng)"
      ]
    },
    {
      "cell_type": "markdown",
      "metadata": {
        "id": "4aRwdtXFDAx_"
      },
      "source": [
        "# Nhận xét chung\n",
        "- Xét về khả năng lưu trữ thông tin tốt nhất sẽ là PDF maker do có cấu trúc tốt (chia được heading, table, ảnh, text ...). Tuy nhiên khả năng trích xuất bảng và ảnh còn kém -> có thể cải thiện  "
      ]
    },
    {
      "cell_type": "code",
      "execution_count": null,
      "metadata": {
        "id": "0mXkvt6JDATo"
      },
      "outputs": [],
      "source": []
    }
  ],
  "metadata": {
    "accelerator": "GPU",
    "colab": {
      "gpuType": "T4",
      "provenance": [],
      "toc_visible": true
    },
    "kernelspec": {
      "display_name": "Python 3",
      "name": "python3"
    },
    "language_info": {
      "name": "python"
    }
  },
  "nbformat": 4,
  "nbformat_minor": 0
}
