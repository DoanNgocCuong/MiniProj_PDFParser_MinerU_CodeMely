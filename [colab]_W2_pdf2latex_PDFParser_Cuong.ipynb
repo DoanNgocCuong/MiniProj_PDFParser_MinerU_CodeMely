{
  "cells": [
    {
      "cell_type": "markdown",
      "metadata": {
        "id": "HQsaIJXmg5Ir"
      },
      "source": [
        "### PDF2Latex\n",
        "- https://github.com/vinaykanigicherla/pdftolatex\n",
        "- https://github.com/mirzaakbarali/EquationPic-to-Tex/blob/main/Equation_Image_to_Latex.ipynb\n"
      ]
    },
    {
      "cell_type": "code",
      "execution_count": null,
      "metadata": {
        "colab": {
          "base_uri": "https://localhost:8080/"
        },
        "id": "-42bKpG2dT0P",
        "outputId": "65d02814-fb32-4954-beda-75fecf35acb2"
      },
      "outputs": [
        {
          "name": "stdout",
          "output_type": "stream",
          "text": [
            "Cloning into 'pdftolatex'...\n",
            "remote: Enumerating objects: 86, done.\u001b[K\n",
            "remote: Counting objects: 100% (86/86), done.\u001b[K\n",
            "remote: Compressing objects: 100% (61/61), done.\u001b[K\n",
            "remote: Total 86 (delta 41), reused 59 (delta 24), pack-reused 0\u001b[K\n",
            "Receiving objects: 100% (86/86), 1.51 MiB | 7.35 MiB/s, done.\n",
            "Resolving deltas: 100% (41/41), done.\n"
          ]
        }
      ],
      "source": [
        "!git clone https://github.com/vinaykanigicherla/pdftolatex  # cũng tầm 3 năm trước, ... -"
      ]
    },
    {
      "cell_type": "code",
      "execution_count": null,
      "metadata": {
        "colab": {
          "base_uri": "https://localhost:8080/"
        },
        "id": "-mzC55vRd-CK",
        "outputId": "873d6ddc-cb76-4e06-afef-0fa9bbbea592"
      },
      "outputs": [
        {
          "name": "stdout",
          "output_type": "stream",
          "text": [
            "/content/pdftolatex\n"
          ]
        }
      ],
      "source": [
        "%cd pdftolatex"
      ]
    },
    {
      "cell_type": "code",
      "execution_count": null,
      "metadata": {
        "colab": {
          "base_uri": "https://localhost:8080/"
        },
        "id": "6OVwNEuTeAF2",
        "outputId": "e8432ca2-1dfd-4479-9ef7-862966fa5bd9"
      },
      "outputs": [
        {
          "name": "stdout",
          "output_type": "stream",
          "text": [
            "Collecting pdf2image\n",
            "  Downloading pdf2image-1.17.0-py3-none-any.whl (11 kB)\n",
            "Requirement already satisfied: pillow in /usr/local/lib/python3.10/dist-packages (from pdf2image) (9.4.0)\n",
            "Installing collected packages: pdf2image\n",
            "Successfully installed pdf2image-1.17.0\n",
            "\u001b[31mERROR: Could not find a version that satisfies the requirement pytessseract (from versions: none)\u001b[0m\u001b[31m\n",
            "\u001b[0m\u001b[31mERROR: No matching distribution found for pytessseract\u001b[0m\u001b[31m\n",
            "\u001b[0mCollecting pytesseract==0.3.10\n",
            "  Downloading pytesseract-0.3.10-py3-none-any.whl (14 kB)\n",
            "Requirement already satisfied: packaging>=21.3 in /usr/local/lib/python3.10/dist-packages (from pytesseract==0.3.10) (24.1)\n",
            "Requirement already satisfied: Pillow>=8.0.0 in /usr/local/lib/python3.10/dist-packages (from pytesseract==0.3.10) (9.4.0)\n",
            "Installing collected packages: pytesseract\n",
            "Successfully installed pytesseract-0.3.10\n",
            "Reading package lists... Done\n",
            "Building dependency tree... Done\n",
            "Reading state information... Done\n",
            "The following NEW packages will be installed:\n",
            "  poppler-utils\n",
            "0 upgraded, 1 newly installed, 0 to remove and 45 not upgraded.\n",
            "Need to get 186 kB of archives.\n",
            "After this operation, 696 kB of additional disk space will be used.\n",
            "Get:1 http://archive.ubuntu.com/ubuntu jammy-updates/main amd64 poppler-utils amd64 22.02.0-2ubuntu0.4 [186 kB]\n",
            "Fetched 186 kB in 1s (247 kB/s)\n",
            "debconf: unable to initialize frontend: Dialog\n",
            "debconf: (No usable dialog-like program is installed, so the dialog based frontend cannot be used. at /usr/share/perl5/Debconf/FrontEnd/Dialog.pm line 78, <> line 1.)\n",
            "debconf: falling back to frontend: Readline\n",
            "debconf: unable to initialize frontend: Readline\n",
            "debconf: (This frontend requires a controlling tty.)\n",
            "debconf: falling back to frontend: Teletype\n",
            "dpkg-preconfigure: unable to re-open stdin: \n",
            "Selecting previously unselected package poppler-utils.\n",
            "(Reading database ... 123586 files and directories currently installed.)\n",
            "Preparing to unpack .../poppler-utils_22.02.0-2ubuntu0.4_amd64.deb ...\n",
            "Unpacking poppler-utils (22.02.0-2ubuntu0.4) ...\n",
            "Setting up poppler-utils (22.02.0-2ubuntu0.4) ...\n",
            "Processing triggers for man-db (2.10.2-1) ...\n",
            "Reading package lists... Done\n",
            "Building dependency tree... Done\n",
            "Reading state information... Done\n",
            "The following additional packages will be installed:\n",
            "  tesseract-ocr-eng tesseract-ocr-osd\n",
            "The following NEW packages will be installed:\n",
            "  tesseract-ocr tesseract-ocr-eng tesseract-ocr-osd\n",
            "0 upgraded, 3 newly installed, 0 to remove and 45 not upgraded.\n",
            "Need to get 4,816 kB of archives.\n",
            "After this operation, 15.6 MB of additional disk space will be used.\n",
            "Get:1 http://archive.ubuntu.com/ubuntu jammy/universe amd64 tesseract-ocr-eng all 1:4.00~git30-7274cfa-1.1 [1,591 kB]\n",
            "Get:2 http://archive.ubuntu.com/ubuntu jammy/universe amd64 tesseract-ocr-osd all 1:4.00~git30-7274cfa-1.1 [2,990 kB]\n",
            "Get:3 http://archive.ubuntu.com/ubuntu jammy/universe amd64 tesseract-ocr amd64 4.1.1-2.1build1 [236 kB]\n",
            "Fetched 4,816 kB in 1s (3,608 kB/s)\n",
            "debconf: unable to initialize frontend: Dialog\n",
            "debconf: (No usable dialog-like program is installed, so the dialog based frontend cannot be used. at /usr/share/perl5/Debconf/FrontEnd/Dialog.pm line 78, <> line 3.)\n",
            "debconf: falling back to frontend: Readline\n",
            "debconf: unable to initialize frontend: Readline\n",
            "debconf: (This frontend requires a controlling tty.)\n",
            "debconf: falling back to frontend: Teletype\n",
            "dpkg-preconfigure: unable to re-open stdin: \n",
            "Selecting previously unselected package tesseract-ocr-eng.\n",
            "(Reading database ... 123616 files and directories currently installed.)\n",
            "Preparing to unpack .../tesseract-ocr-eng_1%3a4.00~git30-7274cfa-1.1_all.deb ...\n",
            "Unpacking tesseract-ocr-eng (1:4.00~git30-7274cfa-1.1) ...\n",
            "Selecting previously unselected package tesseract-ocr-osd.\n",
            "Preparing to unpack .../tesseract-ocr-osd_1%3a4.00~git30-7274cfa-1.1_all.deb ...\n",
            "Unpacking tesseract-ocr-osd (1:4.00~git30-7274cfa-1.1) ...\n",
            "Selecting previously unselected package tesseract-ocr.\n",
            "Preparing to unpack .../tesseract-ocr_4.1.1-2.1build1_amd64.deb ...\n",
            "Unpacking tesseract-ocr (4.1.1-2.1build1) ...\n",
            "Setting up tesseract-ocr-eng (1:4.00~git30-7274cfa-1.1) ...\n",
            "Setting up tesseract-ocr-osd (1:4.00~git30-7274cfa-1.1) ...\n",
            "Setting up tesseract-ocr (4.1.1-2.1build1) ...\n",
            "Processing triggers for man-db (2.10.2-1) ...\n"
          ]
        }
      ],
      "source": [
        "!pip install pdf2image\n",
        "!pip install pytessseract   # Error\n",
        "!pip install pytesseract==0.3.10\n",
        "!sudo apt-get install poppler-utils\n",
        "!sudo apt-get install tesseract-ocr\n"
      ]
    },
    {
      "cell_type": "code",
      "execution_count": null,
      "metadata": {
        "colab": {
          "base_uri": "https://localhost:8080/"
        },
        "id": "uLNuyetGfUpS",
        "outputId": "7607584f-40f2-4879-a4b2-7ca8abf354c7"
      },
      "outputs": [
        {
          "name": "stdout",
          "output_type": "stream",
          "text": [
            "tesseract 4.1.1\n",
            " leptonica-1.82.0\n",
            "  libgif 5.1.9 : libjpeg 8d (libjpeg-turbo 2.1.1) : libpng 1.6.37 : libtiff 4.3.0 : zlib 1.2.11 : libwebp 1.2.2 : libopenjp2 2.4.0\n",
            " Found AVX2\n",
            " Found AVX\n",
            " Found FMA\n",
            " Found SSE\n",
            " Found libarchive 3.6.0 zlib/1.2.11 liblzma/5.2.5 bz2lib/1.0.8 liblz4/1.9.3 libzstd/1.4.8\n"
          ]
        }
      ],
      "source": [
        "!tesseract --version\n"
      ]
    },
    {
      "cell_type": "code",
      "execution_count": null,
      "metadata": {
        "colab": {
          "base_uri": "https://localhost:8080/"
        },
        "id": "F0PLpod3dbKX",
        "outputId": "d3334acc-27f1-4fa7-8222-331fc3e86b86"
      },
      "outputs": [
        {
          "name": "stdout",
          "output_type": "stream",
          "text": [
            "Traceback (most recent call last):\n",
            "  File \"/usr/local/lib/python3.10/dist-packages/pdf2image/pdf2image.py\", line 602, in pdfinfo_from_path\n",
            "    raise ValueError\n",
            "ValueError\n",
            "\n",
            "During handling of the above exception, another exception occurred:\n",
            "\n",
            "Traceback (most recent call last):\n",
            "  File \"/content/pdftolatex/convert_pdf.py\", line 35, in <module>\n",
            "    main()\n",
            "  File \"/content/pdftolatex/convert_pdf.py\", line 32, in main\n",
            "    convert(filepath)\n",
            "  File \"/content/pdftolatex/convert_pdf.py\", line 14, in convert\n",
            "    pdf = PDF(filepath)\n",
            "  File \"/content/pdftolatex/pdftolatex/pdf.py\", line 23, in __init__\n",
            "    self.pages = self.pdftopages(self.path)\n",
            "  File \"/content/pdftolatex/pdftolatex/pdf.py\", line 30, in pdftopages\n",
            "    pil_pages = pdf2image.convert_from_path(path)\n",
            "  File \"/usr/local/lib/python3.10/dist-packages/pdf2image/pdf2image.py\", line 127, in convert_from_path\n",
            "    page_count = pdfinfo_from_path(\n",
            "  File \"/usr/local/lib/python3.10/dist-packages/pdf2image/pdf2image.py\", line 611, in pdfinfo_from_path\n",
            "    raise PDFPageCountError(\n",
            "pdf2image.exceptions.PDFPageCountError: Unable to get page count.\n",
            "I/O Error: Couldn't open file '/content/Machine_Translation_Project_II_DoanNgocCuong.pdf': No such file or directory.\n",
            "\n"
          ]
        }
      ],
      "source": [
        "!python convert_pdf.py --filepath /content/Machine_Translation_Project_II_DoanNgocCuong.pdf\n"
      ]
    },
    {
      "cell_type": "markdown",
      "metadata": {
        "id": "vdZ_LwLKgvOx"
      },
      "source": [
        "Nhận xét:\n",
        "```\n",
        "Segmenting pages for Machine_Translation_Project_II_DoanNgocCuong...\n",
        "100% 6/6 [01:30<00:00, 15.08s/it]\n",
        "Generating LaTex... for Machine_Translation_Project_II_DoanNgocCuong\n",
        "100% 6/6 [00:00<00:00, 174.55it/s]\n",
        "Wrote 141 strings to /content/Machine_Translation_Project_II_DoanNgocCuong.tex\n",
        "```\n",
        "=> Không tốt, lỗi code nhiều."
      ]
    },
    {
      "cell_type": "markdown",
      "metadata": {
        "id": "pGkZrRt9js1L"
      },
      "source": [
        "###"
      ]
    },
    {
      "cell_type": "markdown",
      "metadata": {
        "id": "LempoCKUlbLG"
      },
      "source": [
        "### PDF2HTML"
      ]
    },
    {
      "cell_type": "markdown",
      "metadata": {
        "id": "RXyfkYZnK8Up"
      },
      "source": [
        "- Tìm toạ độ của text xong fill vô: Spire.PDF\n",
        "- https://github.com/pdf2htmlEX/pdf2htmlEX\n",
        "- Trong code của pdf có toạ độ, ...\n",
        "```\n",
        "<<\n",
        "  /Rotate 270\n",
        "  /Parent 3 0 R\n",
        "  /Resources\n",
        "    << /Font << /F0 << /BaseFont /Times-Italic /Subtype /Type1 /Type /Font >> >> >>\n",
        "  /MediaBox [0.000000 0.000000 595.275590551 841.88976378]\n",
        "  /Type /Page\n",
        "  /Contents [9 0 R]\n",
        ">>\n",
        "```\n",
        "- Tree có ảnh và trang pdf, trang pdf sẽ có cơ chữ nào, nghiêng hay thẳng, ...\n",
        "-> chuyển sang markdown\n",
        "\n",
        "- HTML dễ => chuyển qua markdown.\n",
        "HTML đúng y chang, nhưng ko có cấu trúc,\n",
        "markdown công thức vấn đúng, nhưng ký tự sai, NÓ KO XÁC ĐỊNH ĐƯỢC thứ tự đọc của file pdf, khả năng xử lý bảng ko tốt, ảnh chen ngang đoạn đọc trong paper nó không được tốt...\n",
        "\n",
        "- markdown ko convert sang html mà sang text luôn, nhưng convert sang text luôn nhưng chưa được hoàn thiện. 1 thang a4 bị cắt thành 2 nửa đọc 2 nửa có thể nó bị lỗi.\n",
        "\n",
        "=> Dùng OCR xây dựng cấu trúc, khung heading, mathpix, ...\n",
        "\n",
        "\n",
        "- Markdown ko trích được hoàn hảo công thức toán với bảng, hình ảnh, ...\n",
        "\n",
        "--- Log văn bản, trích text từ log văn bản."
      ]
    },
    {
      "cell_type": "markdown",
      "metadata": {
        "id": "j_81DjQSoR7k"
      },
      "source": [
        "#### Run Docker"
      ]
    },
    {
      "cell_type": "code",
      "execution_count": null,
      "metadata": {
        "colab": {
          "base_uri": "https://localhost:8080/"
        },
        "id": "jBVD8ElgnNcE",
        "outputId": "b19274f0-5f74-4cf8-88cc-590133ccbfb3"
      },
      "outputs": [
        {
          "name": "stdout",
          "output_type": "stream",
          "text": [
            "\r0% [Working]\r            \rGet:1 http://security.ubuntu.com/ubuntu jammy-security InRelease [129 kB]\n",
            "Get:2 https://cloud.r-project.org/bin/linux/ubuntu jammy-cran40/ InRelease [3,626 B]\n",
            "Get:3 https://developer.download.nvidia.com/compute/cuda/repos/ubuntu2204/x86_64  InRelease [1,581 B]\n",
            "Ign:4 https://r2u.stat.illinois.edu/ubuntu jammy InRelease\n",
            "Hit:5 http://archive.ubuntu.com/ubuntu jammy InRelease\n",
            "Get:6 https://r2u.stat.illinois.edu/ubuntu jammy Release [5,713 B]\n",
            "Get:7 https://r2u.stat.illinois.edu/ubuntu jammy Release.gpg [793 B]\n",
            "Get:8 http://archive.ubuntu.com/ubuntu jammy-updates InRelease [128 kB]\n",
            "Hit:9 https://ppa.launchpadcontent.net/deadsnakes/ppa/ubuntu jammy InRelease\n",
            "Get:10 http://security.ubuntu.com/ubuntu jammy-security/restricted amd64 Packages [2,707 kB]\n",
            "Hit:11 https://ppa.launchpadcontent.net/graphics-drivers/ppa/ubuntu jammy InRelease\n",
            "Get:12 https://developer.download.nvidia.com/compute/cuda/repos/ubuntu2204/x86_64  Packages [859 kB]\n",
            "Get:13 http://archive.ubuntu.com/ubuntu jammy-backports InRelease [127 kB]\n",
            "Get:14 http://security.ubuntu.com/ubuntu jammy-security/universe amd64 Packages [1,128 kB]\n",
            "Get:15 https://ppa.launchpadcontent.net/ubuntugis/ppa/ubuntu jammy InRelease [24.6 kB]\n",
            "Get:16 http://security.ubuntu.com/ubuntu jammy-security/main amd64 Packages [2,064 kB]\n",
            "Get:17 https://r2u.stat.illinois.edu/ubuntu jammy/main all Packages [8,192 kB]\n",
            "Get:18 https://r2u.stat.illinois.edu/ubuntu jammy/main amd64 Packages [2,545 kB]\n",
            "Get:19 http://archive.ubuntu.com/ubuntu jammy-updates/restricted amd64 Packages [2,781 kB]\n",
            "Get:20 http://archive.ubuntu.com/ubuntu jammy-updates/main amd64 Packages [2,329 kB]\n",
            "Get:21 http://archive.ubuntu.com/ubuntu jammy-updates/universe amd64 Packages [1,418 kB]\n",
            "Get:22 http://archive.ubuntu.com/ubuntu jammy-backports/universe amd64 Packages [33.7 kB]\n",
            "Fetched 24.5 MB in 5s (5,334 kB/s)\n",
            "Reading package lists... Done\n",
            "W: Skipping acquire of configured file 'main/source/Sources' as repository 'https://r2u.stat.illinois.edu/ubuntu jammy InRelease' does not seem to provide it (sources.list entry misspelt?)\n",
            "Reading package lists... Done\n",
            "Building dependency tree... Done\n",
            "Reading state information... Done\n",
            "ca-certificates is already the newest version (20230311ubuntu0.22.04.1).\n",
            "curl is already the newest version (7.81.0-1ubuntu1.16).\n",
            "software-properties-common is already the newest version (0.99.22.9).\n",
            "The following NEW packages will be installed:\n",
            "  apt-transport-https\n",
            "0 upgraded, 1 newly installed, 0 to remove and 49 not upgraded.\n",
            "Need to get 1,510 B of archives.\n",
            "After this operation, 170 kB of additional disk space will be used.\n",
            "Get:1 http://archive.ubuntu.com/ubuntu jammy-updates/universe amd64 apt-transport-https all 2.4.12 [1,510 B]\n",
            "Fetched 1,510 B in 0s (6,378 B/s)\n",
            "Selecting previously unselected package apt-transport-https.\n",
            "(Reading database ... 123663 files and directories currently installed.)\n",
            "Preparing to unpack .../apt-transport-https_2.4.12_all.deb ...\n",
            "Unpacking apt-transport-https (2.4.12) ...\n",
            "Setting up apt-transport-https (2.4.12) ...\n"
          ]
        }
      ],
      "source": [
        "!apt-get update\n",
        "!apt-get install -y apt-transport-https ca-certificates curl software-properties-common\n"
      ]
    },
    {
      "cell_type": "code",
      "execution_count": null,
      "metadata": {
        "colab": {
          "base_uri": "https://localhost:8080/"
        },
        "id": "wsm1xpf9nRaW",
        "outputId": "a1dfd462-906b-4697-b488-37c627005567"
      },
      "outputs": [
        {
          "name": "stdout",
          "output_type": "stream",
          "text": [
            "Warning: apt-key is deprecated. Manage keyring files in trusted.gpg.d instead (see apt-key(8)).\n",
            "OK\n",
            "Repository: 'deb [arch=amd64] https://download.docker.com/linux/ubuntu jammy stable'\n",
            "Description:\n",
            "Archive for codename: jammy components: stable\n",
            "More info: https://download.docker.com/linux/ubuntu\n",
            "Adding repository.\n",
            "Press [ENTER] to continue or Ctrl-c to cancel.Traceback (most recent call last):\n",
            "  File \"/usr/bin/add-apt-repository\", line 132, in prompt_user\n",
            "    input(_(\"Press [ENTER] to continue or Ctrl-c to cancel.\"))\n",
            "KeyboardInterrupt\n",
            "\n",
            "During handling of the above exception, another exception occurred:\n",
            "\n",
            "Traceback (most recent call last):\n",
            "  File \"/usr/bin/add-apt-repository\", line 364, in <module>\n",
            "    sys.exit(0 if addaptrepo.main() else 1)\n",
            "  File \"/usr/bin/add-apt-repository\", line 352, in main\n",
            "    self.prompt_user_shortcut(shortcut)\n",
            "  File \"/usr/bin/add-apt-repository\", line 152, in prompt_user_shortcut\n",
            "    self.prompt_user()\n",
            "  File \"/usr/bin/add-apt-repository\", line 134, in prompt_user\n",
            "    print(_(\"Aborted.\"))\n",
            "  File \"/usr/lib/python3.10/gettext.py\", line 757, in gettext\n",
            "    return dgettext(_current_domain, message)\n",
            "  File \"/usr/lib/python3.10/gettext.py\", line 681, in dgettext\n",
            "    t = translation(domain, _localedirs.get(domain, None))\n",
            "KeyboardInterrupt\n",
            "^C\n",
            "Hit:1 https://cloud.r-project.org/bin/linux/ubuntu jammy-cran40/ InRelease\n",
            "Hit:2 https://developer.download.nvidia.com/compute/cuda/repos/ubuntu2204/x86_64  InRelease\n",
            "Ign:3 https://r2u.stat.illinois.edu/ubuntu jammy InRelease\n",
            "Hit:4 https://r2u.stat.illinois.edu/ubuntu jammy Release\n",
            "Hit:5 http://archive.ubuntu.com/ubuntu jammy InRelease\n",
            "Hit:6 http://security.ubuntu.com/ubuntu jammy-security InRelease\n",
            "0% [Waiting for headers] [Waiting for headers]^C\n",
            "^C\n"
          ]
        }
      ],
      "source": [
        "# !curl -fsSL https://download.docker.com/linux/ubuntu/gpg | sudo apt-key add -\n",
        "# !add-apt-repository \"deb [arch=amd64] https://download.docker.com/linux/ubuntu $(lsb_release -cs) stable\"\n",
        "# !apt-get update\n",
        "# !apt-get install -y docker-ce\n"
      ]
    },
    {
      "cell_type": "code",
      "execution_count": null,
      "metadata": {
        "colab": {
          "base_uri": "https://localhost:8080/"
        },
        "id": "MQO2e4KUnh3L",
        "outputId": "0977d572-553a-49cc-c62d-06150ab8c606"
      },
      "outputs": [
        {
          "name": "stdout",
          "output_type": "stream",
          "text": [
            "/bin/bash: line 1: docker: command not found\n"
          ]
        }
      ],
      "source": [
        "# !docker pull bwits/pdf2htmlex\n"
      ]
    },
    {
      "cell_type": "code",
      "execution_count": null,
      "metadata": {
        "colab": {
          "base_uri": "https://localhost:8080/"
        },
        "id": "4U2lEqGJnj2b",
        "outputId": "9533ea11-3e44-4447-afc4-98a4e56102a6"
      },
      "outputs": [
        {
          "name": "stdout",
          "output_type": "stream",
          "text": [
            "/bin/bash: line 1: docker: command not found\n"
          ]
        }
      ],
      "source": [
        "# !docker run -v /content:/pdf bwits/pdf2htmlex pdf2htmlEX --zoom 1.3 /pdf/yourfile.pdf\n"
      ]
    },
    {
      "cell_type": "markdown",
      "metadata": {
        "id": "-6HX7dzdntPu"
      },
      "source": [
        "#### Run Colab"
      ]
    },
    {
      "cell_type": "code",
      "execution_count": null,
      "metadata": {
        "id": "6sQ55k0en-xC"
      },
      "outputs": [],
      "source": [
        "# Xóa thư mục cũ nếu có\n",
        "!rm -rf pdf2htmlEX\n"
      ]
    },
    {
      "cell_type": "code",
      "execution_count": null,
      "metadata": {
        "colab": {
          "base_uri": "https://localhost:8080/"
        },
        "id": "wtUihiQPoAPS",
        "outputId": "6e2005cb-2489-43cd-87d8-aba3ae14237d"
      },
      "outputs": [
        {
          "name": "stdout",
          "output_type": "stream",
          "text": [
            "\r0% [Working]\r            \rHit:1 https://cloud.r-project.org/bin/linux/ubuntu jammy-cran40/ InRelease\n",
            "\r0% [Waiting for headers] [Waiting for headers] [Waiting for headers] [Waiting for headers] [Connecti\r                                                                                                    \rHit:2 https://developer.download.nvidia.com/compute/cuda/repos/ubuntu2204/x86_64  InRelease\n",
            "\r0% [Waiting for headers] [Waiting for headers] [Waiting for headers] [Connected to ppa.launchpadcont\r                                                                                                    \rHit:3 http://security.ubuntu.com/ubuntu jammy-security InRelease\n",
            "Hit:4 http://archive.ubuntu.com/ubuntu jammy InRelease\n",
            "Ign:5 https://r2u.stat.illinois.edu/ubuntu jammy InRelease\n",
            "Hit:6 https://r2u.stat.illinois.edu/ubuntu jammy Release\n",
            "Hit:7 http://archive.ubuntu.com/ubuntu jammy-updates InRelease\n",
            "Hit:8 http://archive.ubuntu.com/ubuntu jammy-backports InRelease\n",
            "Hit:9 https://ppa.launchpadcontent.net/deadsnakes/ppa/ubuntu jammy InRelease\n",
            "Hit:10 https://ppa.launchpadcontent.net/graphics-drivers/ppa/ubuntu jammy InRelease\n",
            "Hit:11 https://ppa.launchpadcontent.net/ubuntugis/ppa/ubuntu jammy InRelease\n",
            "Reading package lists... Done\n",
            "W: Skipping acquire of configured file 'main/source/Sources' as repository 'https://r2u.stat.illinois.edu/ubuntu jammy InRelease' does not seem to provide it (sources.list entry misspelt?)\n",
            "Reading package lists... Done\n",
            "Building dependency tree... Done\n",
            "Reading state information... Done\n",
            "build-essential is already the newest version (12.9ubuntu3).\n",
            "fonts-liberation is already the newest version (1:1.07.4-11).\n",
            "g++ is already the newest version (4:11.2.0-1ubuntu1).\n",
            "libfontconfig1-dev is already the newest version (2.13.1-4.2ubuntu5).\n",
            "pkg-config is already the newest version (0.29.2-1ubuntu3).\n",
            "poppler-data is already the newest version (0.4.11-1).\n",
            "cmake is already the newest version (3.22.1-1ubuntu1.22.04.2).\n",
            "git is already the newest version (1:2.34.1-1ubuntu1.11).\n",
            "wget is already the newest version (1.21.2-2ubuntu1.1).\n",
            "The following packages were automatically installed and are no longer required:\n",
            "  libbz2-dev libpkgconf3 libreadline-dev\n",
            "Use 'apt autoremove' to remove them.\n",
            "The following additional packages will be installed:\n",
            "  gir1.2-freedesktop gir1.2-poppler-0.18 libblkid-dev libblkid1 libcairo-script-interpreter2\n",
            "  libffi-dev libglib2.0-dev libglib2.0-dev-bin libice-dev liblzo2-2 libmount-dev libmount1\n",
            "  libpixman-1-dev libpoppler-glib8 libselinux1-dev libsepol-dev libsm-dev libxcb-render0-dev\n",
            "  libxcb-shm0-dev\n",
            "Suggested packages:\n",
            "  libcairo2-doc libgirepository1.0-dev libglib2.0-doc libgdk-pixbuf2.0-bin | libgdk-pixbuf2.0-dev\n",
            "  libxml2-utils libice-doc cryptsetup-bin libpoppler-glib-doc libsm-doc\n",
            "The following NEW packages will be installed:\n",
            "  gir1.2-freedesktop gir1.2-poppler-0.18 libblkid-dev libcairo-script-interpreter2 libcairo2-dev\n",
            "  libffi-dev libglib2.0-dev libglib2.0-dev-bin libice-dev liblzo2-2 libmount-dev libpixman-1-dev\n",
            "  libpoppler-glib-dev libpoppler-glib8 libselinux1-dev libsepol-dev libsm-dev libxcb-render0-dev\n",
            "  libxcb-shm0-dev\n",
            "The following packages will be upgraded:\n",
            "  libblkid1 libmount1\n",
            "2 upgraded, 19 newly installed, 0 to remove and 47 not upgraded.\n",
            "2 not fully installed or removed.\n",
            "Need to get 4,318 kB of archives.\n",
            "After this operation, 21.3 MB of additional disk space will be used.\n",
            "Get:1 http://archive.ubuntu.com/ubuntu jammy-updates/main amd64 libblkid1 amd64 2.37.2-4ubuntu3.4 [103 kB]\n",
            "Get:2 http://archive.ubuntu.com/ubuntu jammy-updates/main amd64 libmount1 amd64 2.37.2-4ubuntu3.4 [122 kB]\n",
            "Get:3 http://archive.ubuntu.com/ubuntu jammy/main amd64 gir1.2-freedesktop amd64 1.72.0-1 [22.3 kB]\n",
            "Get:4 http://archive.ubuntu.com/ubuntu jammy-updates/main amd64 libpoppler-glib8 amd64 22.02.0-2ubuntu0.4 [134 kB]\n",
            "Get:5 http://archive.ubuntu.com/ubuntu jammy-updates/main amd64 gir1.2-poppler-0.18 amd64 22.02.0-2ubuntu0.4 [24.7 kB]\n",
            "Get:6 http://archive.ubuntu.com/ubuntu jammy/main amd64 liblzo2-2 amd64 2.10-2build3 [53.7 kB]\n",
            "Get:7 http://archive.ubuntu.com/ubuntu jammy/main amd64 libcairo-script-interpreter2 amd64 1.16.0-5ubuntu2 [62.0 kB]\n",
            "Get:8 http://archive.ubuntu.com/ubuntu jammy/main amd64 libice-dev amd64 2:1.0.10-1build2 [51.4 kB]\n",
            "Get:9 http://archive.ubuntu.com/ubuntu jammy/main amd64 libsm-dev amd64 2:1.2.3-1build2 [18.1 kB]\n",
            "Get:10 http://archive.ubuntu.com/ubuntu jammy-updates/main amd64 libpixman-1-dev amd64 0.40.0-1ubuntu0.22.04.1 [280 kB]\n",
            "Get:11 http://archive.ubuntu.com/ubuntu jammy/main amd64 libxcb-render0-dev amd64 1.14-3ubuntu3 [19.6 kB]\n",
            "Get:12 http://archive.ubuntu.com/ubuntu jammy/main amd64 libxcb-shm0-dev amd64 1.14-3ubuntu3 [6,848 B]\n",
            "Get:13 http://archive.ubuntu.com/ubuntu jammy/main amd64 libffi-dev amd64 3.4.2-4 [63.7 kB]\n",
            "Get:14 http://archive.ubuntu.com/ubuntu jammy-updates/main amd64 libglib2.0-dev-bin amd64 2.72.4-0ubuntu2.3 [117 kB]\n",
            "Get:15 http://archive.ubuntu.com/ubuntu jammy-updates/main amd64 libblkid-dev amd64 2.37.2-4ubuntu3.4 [185 kB]\n",
            "Get:16 http://archive.ubuntu.com/ubuntu jammy/main amd64 libsepol-dev amd64 3.3-1build1 [378 kB]\n",
            "Get:17 http://archive.ubuntu.com/ubuntu jammy/main amd64 libselinux1-dev amd64 3.3-1build2 [158 kB]\n",
            "Get:18 http://archive.ubuntu.com/ubuntu jammy-updates/main amd64 libmount-dev amd64 2.37.2-4ubuntu3.4 [14.5 kB]\n",
            "Get:19 http://archive.ubuntu.com/ubuntu jammy-updates/main amd64 libglib2.0-dev amd64 2.72.4-0ubuntu2.3 [1,743 kB]\n",
            "Get:20 http://archive.ubuntu.com/ubuntu jammy/main amd64 libcairo2-dev amd64 1.16.0-5ubuntu2 [692 kB]\n",
            "Get:21 http://archive.ubuntu.com/ubuntu jammy-updates/main amd64 libpoppler-glib-dev amd64 22.02.0-2ubuntu0.4 [68.8 kB]\n",
            "Fetched 4,318 kB in 1s (3,049 kB/s)\n",
            "(Reading database ... 124189 files and directories currently installed.)\n",
            "Preparing to unpack .../libblkid1_2.37.2-4ubuntu3.4_amd64.deb ...\n",
            "Unpacking libblkid1:amd64 (2.37.2-4ubuntu3.4) over (2.37.2-4ubuntu3) ...\n",
            "Setting up libblkid1:amd64 (2.37.2-4ubuntu3.4) ...\n",
            "(Reading database ... 124189 files and directories currently installed.)\n",
            "Preparing to unpack .../libmount1_2.37.2-4ubuntu3.4_amd64.deb ...\n",
            "Unpacking libmount1:amd64 (2.37.2-4ubuntu3.4) over (2.37.2-4ubuntu3) ...\n",
            "Setting up libmount1:amd64 (2.37.2-4ubuntu3.4) ...\n",
            "Selecting previously unselected package gir1.2-freedesktop:amd64.\n",
            "(Reading database ... 124189 files and directories currently installed.)\n",
            "Preparing to unpack .../00-gir1.2-freedesktop_1.72.0-1_amd64.deb ...\n",
            "Unpacking gir1.2-freedesktop:amd64 (1.72.0-1) ...\n",
            "Selecting previously unselected package libpoppler-glib8:amd64.\n",
            "Preparing to unpack .../01-libpoppler-glib8_22.02.0-2ubuntu0.4_amd64.deb ...\n",
            "Unpacking libpoppler-glib8:amd64 (22.02.0-2ubuntu0.4) ...\n",
            "Selecting previously unselected package gir1.2-poppler-0.18:amd64.\n",
            "Preparing to unpack .../02-gir1.2-poppler-0.18_22.02.0-2ubuntu0.4_amd64.deb ...\n",
            "Unpacking gir1.2-poppler-0.18:amd64 (22.02.0-2ubuntu0.4) ...\n",
            "Selecting previously unselected package liblzo2-2:amd64.\n",
            "Preparing to unpack .../03-liblzo2-2_2.10-2build3_amd64.deb ...\n",
            "Unpacking liblzo2-2:amd64 (2.10-2build3) ...\n",
            "Selecting previously unselected package libcairo-script-interpreter2:amd64.\n",
            "Preparing to unpack .../04-libcairo-script-interpreter2_1.16.0-5ubuntu2_amd64.deb ...\n",
            "Unpacking libcairo-script-interpreter2:amd64 (1.16.0-5ubuntu2) ...\n",
            "Selecting previously unselected package libice-dev:amd64.\n",
            "Preparing to unpack .../05-libice-dev_2%3a1.0.10-1build2_amd64.deb ...\n",
            "Unpacking libice-dev:amd64 (2:1.0.10-1build2) ...\n",
            "Selecting previously unselected package libsm-dev:amd64.\n",
            "Preparing to unpack .../06-libsm-dev_2%3a1.2.3-1build2_amd64.deb ...\n",
            "Unpacking libsm-dev:amd64 (2:1.2.3-1build2) ...\n",
            "Selecting previously unselected package libpixman-1-dev:amd64.\n",
            "Preparing to unpack .../07-libpixman-1-dev_0.40.0-1ubuntu0.22.04.1_amd64.deb ...\n",
            "Unpacking libpixman-1-dev:amd64 (0.40.0-1ubuntu0.22.04.1) ...\n",
            "Selecting previously unselected package libxcb-render0-dev:amd64.\n",
            "Preparing to unpack .../08-libxcb-render0-dev_1.14-3ubuntu3_amd64.deb ...\n",
            "Unpacking libxcb-render0-dev:amd64 (1.14-3ubuntu3) ...\n",
            "Selecting previously unselected package libxcb-shm0-dev:amd64.\n",
            "Preparing to unpack .../09-libxcb-shm0-dev_1.14-3ubuntu3_amd64.deb ...\n",
            "Unpacking libxcb-shm0-dev:amd64 (1.14-3ubuntu3) ...\n",
            "Selecting previously unselected package libffi-dev:amd64.\n",
            "Preparing to unpack .../10-libffi-dev_3.4.2-4_amd64.deb ...\n",
            "Unpacking libffi-dev:amd64 (3.4.2-4) ...\n",
            "Selecting previously unselected package libglib2.0-dev-bin.\n",
            "Preparing to unpack .../11-libglib2.0-dev-bin_2.72.4-0ubuntu2.3_amd64.deb ...\n",
            "Unpacking libglib2.0-dev-bin (2.72.4-0ubuntu2.3) ...\n",
            "Selecting previously unselected package libblkid-dev:amd64.\n",
            "Preparing to unpack .../12-libblkid-dev_2.37.2-4ubuntu3.4_amd64.deb ...\n",
            "Unpacking libblkid-dev:amd64 (2.37.2-4ubuntu3.4) ...\n",
            "Selecting previously unselected package libsepol-dev:amd64.\n",
            "Preparing to unpack .../13-libsepol-dev_3.3-1build1_amd64.deb ...\n",
            "Unpacking libsepol-dev:amd64 (3.3-1build1) ...\n",
            "Selecting previously unselected package libselinux1-dev:amd64.\n",
            "Preparing to unpack .../14-libselinux1-dev_3.3-1build2_amd64.deb ...\n",
            "Unpacking libselinux1-dev:amd64 (3.3-1build2) ...\n",
            "Selecting previously unselected package libmount-dev:amd64.\n",
            "Preparing to unpack .../15-libmount-dev_2.37.2-4ubuntu3.4_amd64.deb ...\n",
            "Unpacking libmount-dev:amd64 (2.37.2-4ubuntu3.4) ...\n",
            "Selecting previously unselected package libglib2.0-dev:amd64.\n",
            "Preparing to unpack .../16-libglib2.0-dev_2.72.4-0ubuntu2.3_amd64.deb ...\n",
            "Unpacking libglib2.0-dev:amd64 (2.72.4-0ubuntu2.3) ...\n",
            "Selecting previously unselected package libcairo2-dev:amd64.\n",
            "Preparing to unpack .../17-libcairo2-dev_1.16.0-5ubuntu2_amd64.deb ...\n",
            "Unpacking libcairo2-dev:amd64 (1.16.0-5ubuntu2) ...\n",
            "Selecting previously unselected package libpoppler-glib-dev.\n",
            "Preparing to unpack .../18-libpoppler-glib-dev_22.02.0-2ubuntu0.4_amd64.deb ...\n",
            "Unpacking libpoppler-glib-dev (22.02.0-2ubuntu0.4) ...\n",
            "Setting up libglib2.0-dev-bin (2.72.4-0ubuntu2.3) ...\n",
            "Setting up libblkid-dev:amd64 (2.37.2-4ubuntu3.4) ...\n",
            "Setting up gir1.2-freedesktop:amd64 (1.72.0-1) ...\n",
            "Setting up libpixman-1-dev:amd64 (0.40.0-1ubuntu0.22.04.1) ...\n",
            "Setting up libpoppler-glib8:amd64 (22.02.0-2ubuntu0.4) ...\n",
            "Setting up libice-dev:amd64 (2:1.0.10-1build2) ...\n",
            "Setting up libsm-dev:amd64 (2:1.2.3-1build2) ...\n",
            "Setting up liblzo2-2:amd64 (2.10-2build3) ...\n",
            "Setting up libffi-dev:amd64 (3.4.2-4) ...\n",
            "Setting up poppler-data (0.4.11-1) ...\n",
            "Setting up libxcb-shm0-dev:amd64 (1.14-3ubuntu3) ...\n",
            "Setting up pkg-config (0.29.2-1ubuntu3) ...\n",
            "Setting up libsepol-dev:amd64 (3.3-1build1) ...\n",
            "Setting up libxcb-render0-dev:amd64 (1.14-3ubuntu3) ...\n",
            "Setting up gir1.2-poppler-0.18:amd64 (22.02.0-2ubuntu0.4) ...\n",
            "Setting up libcairo-script-interpreter2:amd64 (1.16.0-5ubuntu2) ...\n",
            "Setting up libselinux1-dev:amd64 (3.3-1build2) ...\n",
            "Setting up libmount-dev:amd64 (2.37.2-4ubuntu3.4) ...\n",
            "Setting up libglib2.0-dev:amd64 (2.72.4-0ubuntu2.3) ...\n",
            "Processing triggers for libglib2.0-0:amd64 (2.72.4-0ubuntu2.3) ...\n",
            "Processing triggers for libc-bin (2.35-0ubuntu3.4) ...\n",
            "/sbin/ldconfig.real: /usr/local/lib/libtbbbind_2_0.so.3 is not a symbolic link\n",
            "\n",
            "/sbin/ldconfig.real: /usr/local/lib/libtbbbind.so.3 is not a symbolic link\n",
            "\n",
            "/sbin/ldconfig.real: /usr/local/lib/libtbbmalloc.so.2 is not a symbolic link\n",
            "\n",
            "/sbin/ldconfig.real: /usr/local/lib/libtbb.so.12 is not a symbolic link\n",
            "\n",
            "/sbin/ldconfig.real: /usr/local/lib/libtbbmalloc_proxy.so.2 is not a symbolic link\n",
            "\n",
            "/sbin/ldconfig.real: /usr/local/lib/libtbbbind_2_5.so.3 is not a symbolic link\n",
            "\n",
            "Processing triggers for man-db (2.10.2-1) ...\n",
            "Setting up libcairo2-dev:amd64 (1.16.0-5ubuntu2) ...\n",
            "Processing triggers for fontconfig (2.13.1-4.2ubuntu5) ...\n",
            "Setting up libpoppler-glib-dev (22.02.0-2ubuntu0.4) ...\n"
          ]
        }
      ],
      "source": [
        "!apt-get update\n",
        "!apt-get install -y build-essential cmake g++ git wget libcairo2-dev libpoppler-glib-dev poppler-data fonts-liberation libfontconfig1-dev pkg-config\n"
      ]
    },
    {
      "cell_type": "code",
      "execution_count": null,
      "metadata": {
        "colab": {
          "base_uri": "https://localhost:8080/"
        },
        "id": "RVqT4yNuqQBp",
        "outputId": "ec65146c-2a96-4154-9506-00ce9761fbef"
      },
      "outputs": [
        {
          "name": "stdout",
          "output_type": "stream",
          "text": [
            "\r0% [Working]\r            \rHit:1 http://security.ubuntu.com/ubuntu jammy-security InRelease\n",
            "\r0% [Waiting for headers] [Waiting for headers] [Connected to r2u.stat.illinois.\r                                                                               \rHit:2 https://cloud.r-project.org/bin/linux/ubuntu jammy-cran40/ InRelease\n",
            "\r0% [Waiting for headers] [Connected to r2u.stat.illinois.edu (192.17.190.167)] \r                                                                               \rHit:3 http://archive.ubuntu.com/ubuntu jammy InRelease\n",
            "\r0% [Waiting for headers] [Waiting for headers] [Waiting for headers] [Connectin\r                                                                               \rHit:4 https://developer.download.nvidia.com/compute/cuda/repos/ubuntu2204/x86_64  InRelease\n",
            "\r0% [Waiting for headers] [Waiting for headers] [Connecting to ppa.launchpadcont\r                                                                               \rHit:5 http://archive.ubuntu.com/ubuntu jammy-updates InRelease\n",
            "\r0% [Waiting for headers] [Connecting to ppa.launchpadcontent.net (185.125.190.8\r                                                                               \rHit:6 http://archive.ubuntu.com/ubuntu jammy-backports InRelease\n",
            "\r0% [Waiting for headers] [Connecting to ppa.launchpadcontent.net (185.125.190.8\r                                                                               \rIgn:7 https://r2u.stat.illinois.edu/ubuntu jammy InRelease\n",
            "Hit:8 https://r2u.stat.illinois.edu/ubuntu jammy Release\n",
            "Hit:9 https://ppa.launchpadcontent.net/deadsnakes/ppa/ubuntu jammy InRelease\n",
            "Hit:10 https://ppa.launchpadcontent.net/graphics-drivers/ppa/ubuntu jammy InRelease\n",
            "Hit:11 https://ppa.launchpadcontent.net/ubuntugis/ppa/ubuntu jammy InRelease\n",
            "Reading package lists... Done\n",
            "W: Skipping acquire of configured file 'main/source/Sources' as repository 'https://r2u.stat.illinois.edu/ubuntu jammy InRelease' does not seem to provide it (sources.list entry misspelt?)\n",
            "Reading package lists... Done\n",
            "Building dependency tree... Done\n",
            "Reading state information... Done\n",
            "libpoppler-dev is already the newest version (22.02.0-2ubuntu0.4).\n",
            "The following packages were automatically installed and are no longer required:\n",
            "  libbz2-dev libpkgconf3 libreadline-dev\n",
            "Use 'sudo apt autoremove' to remove them.\n",
            "0 upgraded, 0 newly installed, 0 to remove and 47 not upgraded.\n",
            "Hit:1 https://cloud.r-project.org/bin/linux/ubuntu jammy-cran40/ InRelease\n",
            "Hit:2 http://archive.ubuntu.com/ubuntu jammy InRelease\n",
            "Hit:3 http://security.ubuntu.com/ubuntu jammy-security InRelease\n",
            "Hit:4 https://developer.download.nvidia.com/compute/cuda/repos/ubuntu2204/x86_64  InRelease\n",
            "Hit:5 http://archive.ubuntu.com/ubuntu jammy-updates InRelease\n",
            "Hit:6 http://archive.ubuntu.com/ubuntu jammy-backports InRelease\n",
            "Ign:7 https://r2u.stat.illinois.edu/ubuntu jammy InRelease\n",
            "Hit:8 https://r2u.stat.illinois.edu/ubuntu jammy Release\n",
            "Hit:9 https://ppa.launchpadcontent.net/deadsnakes/ppa/ubuntu jammy InRelease\n",
            "Hit:10 https://ppa.launchpadcontent.net/graphics-drivers/ppa/ubuntu jammy InRelease\n",
            "Hit:11 https://ppa.launchpadcontent.net/ubuntugis/ppa/ubuntu jammy InRelease\n",
            "Reading package lists... Done\n",
            "W: Skipping acquire of configured file 'main/source/Sources' as repository 'https://r2u.stat.illinois.edu/ubuntu jammy InRelease' does not seem to provide it (sources.list entry misspelt?)\n",
            "Reading package lists... Done\n",
            "Building dependency tree... Done\n",
            "Reading state information... Done\n",
            "pkg-config is already the newest version (0.29.2-1ubuntu3).\n",
            "libpoppler-dev is already the newest version (22.02.0-2ubuntu0.4).\n",
            "The following packages were automatically installed and are no longer required:\n",
            "  libbz2-dev libpkgconf3 libreadline-dev\n",
            "Use 'sudo apt autoremove' to remove them.\n",
            "0 upgraded, 0 newly installed, 0 to remove and 47 not upgraded.\n"
          ]
        }
      ],
      "source": [
        "# thiếu tệp poppler-config.h, một tệp cần thiết từ thư viện Poppler. Để giải quyết vấn đề này, bạn cần cài đặt các thư viện phát triển của Poppler.\n",
        "!sudo apt-get update\n",
        "!sudo apt-get install -y libpoppler-dev\n",
        "\n",
        "!sudo apt-get update\n",
        "!sudo apt-get install -y libpoppler-dev pkg-config\n",
        "\n"
      ]
    },
    {
      "cell_type": "code",
      "execution_count": null,
      "metadata": {
        "colab": {
          "base_uri": "https://localhost:8080/"
        },
        "id": "co490aefpCFz",
        "outputId": "4fb2eeec-4e68-4306-cfd6-7d431020aa8e"
      },
      "outputs": [
        {
          "name": "stdout",
          "output_type": "stream",
          "text": [
            "/content/pdf2htmlEX\n"
          ]
        }
      ],
      "source": [
        "%cd /content/pdf2htmlEX"
      ]
    },
    {
      "cell_type": "code",
      "execution_count": null,
      "metadata": {
        "colab": {
          "base_uri": "https://localhost:8080/"
        },
        "id": "wDwzMR4Onsse",
        "outputId": "21bab1c0-0f93-4045-8930-996e79d1dfee"
      },
      "outputs": [
        {
          "name": "stdout",
          "output_type": "stream",
          "text": [
            "/content/pdf2htmlEX/pdf2htmlEX\n",
            "3rdparty  build  CMakeLists.txt  logo  pdf2htmlEX.1  pdf2htmlEX.1.in  share  src  test\n",
            "mkdir: cannot create directory ‘build’: File exists\n",
            "/content/pdf2htmlEX/pdf2htmlEX/build\n",
            "\u001b[33mCMake Warning (dev) at CMakeLists.txt:5 (project):\n",
            "  cmake_minimum_required() should be called prior to this top-level project()\n",
            "  call.  Please see the cmake-commands(7) manual for usage documentation of\n",
            "  both commands.\n",
            "This warning is for project developers.  Use -Wno-dev to suppress it.\n",
            "\u001b[0m\n",
            "\u001b[0mCMake Deprecation Warning at CMakeLists.txt:7 (cmake_minimum_required):\n",
            "  Compatibility with CMake < 3.5 will be removed from a future version of\n",
            "  CMake.\n",
            "\n",
            "  Update the VERSION argument <min> value or use a ...<max> suffix to tell\n",
            "  CMake that the project does not need compatibility with older versions.\n",
            "\n",
            "\u001b[0m\n",
            "\u001b[0m-- Trying to locate cairo-svg...\u001b[0m\n",
            "\u001b[0m--    found cairo-svg...\u001b[0m\n",
            "-- Configuring done (0.1s)\n",
            "-- Generating done (0.0s)\n",
            "-- Build files have been written to: /content/pdf2htmlEX/pdf2htmlEX/build\n",
            "[  2%] \u001b[32mBuilding CXX object CMakeFiles/pdf2htmlEX.dir/src/pdf2htmlEX.cc.o\u001b[0m\n",
            "\u001b[01m\u001b[K/content/pdf2htmlEX/pdf2htmlEX/src/pdf2htmlEX.cc:18:10:\u001b[m\u001b[K \u001b[01;31m\u001b[Kfatal error: \u001b[m\u001b[Kpoppler-config.h: No such file or directory\n",
            "   18 | #include \u001b[01;31m\u001b[K<poppler-config.h>\u001b[m\u001b[K\n",
            "      |          \u001b[01;31m\u001b[K^~~~~~~~~~~~~~~~~~\u001b[m\u001b[K\n",
            "compilation terminated.\n",
            "make[2]: *** [CMakeFiles/pdf2htmlEX.dir/build.make:76: CMakeFiles/pdf2htmlEX.dir/src/pdf2htmlEX.cc.o] Error 1\n",
            "make[1]: *** [CMakeFiles/Makefile2:140: CMakeFiles/pdf2htmlEX.dir/all] Error 2\n",
            "make: *** [Makefile:146: all] Error 2\n",
            "[  2%] \u001b[32mBuilding CXX object CMakeFiles/pdf2htmlEX.dir/src/pdf2htmlEX.cc.o\u001b[0m\n",
            "\u001b[01m\u001b[K/content/pdf2htmlEX/pdf2htmlEX/src/pdf2htmlEX.cc:18:10:\u001b[m\u001b[K \u001b[01;31m\u001b[Kfatal error: \u001b[m\u001b[Kpoppler-config.h: No such file or directory\n",
            "   18 | #include \u001b[01;31m\u001b[K<poppler-config.h>\u001b[m\u001b[K\n",
            "      |          \u001b[01;31m\u001b[K^~~~~~~~~~~~~~~~~~\u001b[m\u001b[K\n",
            "compilation terminated.\n",
            "make[2]: *** [CMakeFiles/pdf2htmlEX.dir/build.make:76: CMakeFiles/pdf2htmlEX.dir/src/pdf2htmlEX.cc.o] Error 1\n",
            "make[1]: *** [CMakeFiles/Makefile2:140: CMakeFiles/pdf2htmlEX.dir/all] Error 2\n",
            "make: *** [Makefile:146: all] Error 2\n"
          ]
        }
      ],
      "source": [
        "# Clone the repository from GitHub\n",
        "# !git clone https://github.com/pdf2htmlEX/pdf2htmlEX.git\n",
        "%cd /content/pdf2htmlEX/pdf2htmlEX\n",
        "\n",
        "# Check if CMakeLists.txt exists in the directory\n",
        "!ls\n",
        "\n",
        "# If CMakeLists.txt exists, create a build directory and navigate to it\n",
        "!mkdir build\n",
        "%cd build\n",
        "\n",
        "# Run CMake to configure the project\n",
        "!cmake ..\n",
        "\n",
        "# Compile the project\n",
        "!make\n",
        "\n",
        "# Install the project\n",
        "!sudo make install\n"
      ]
    },
    {
      "cell_type": "code",
      "execution_count": null,
      "metadata": {
        "id": "r4jPY4T0oA5u"
      },
      "outputs": [],
      "source": []
    }
  ],
  "metadata": {
    "colab": {
      "provenance": [],
      "toc_visible": true
    },
    "kernelspec": {
      "display_name": "Python 3",
      "name": "python3"
    }
  },
  "nbformat": 4,
  "nbformat_minor": 0
}
